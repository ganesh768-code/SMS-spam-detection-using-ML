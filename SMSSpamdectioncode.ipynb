{
 "cells": [
  {
   "cell_type": "code",
   "execution_count": 1,
   "id": "d0c172bd",
   "metadata": {
    "execution": {
     "iopub.execute_input": "2024-04-24T16:39:37.605478Z",
     "iopub.status.busy": "2024-04-24T16:39:37.604604Z",
     "iopub.status.idle": "2024-04-24T16:39:37.629776Z",
     "shell.execute_reply": "2024-04-24T16:39:37.628912Z",
     "shell.execute_reply.started": "2024-04-24T16:39:37.605428Z"
    }
   },
   "outputs": [],
   "source": [
    "#!pyppeteer-install"
   ]
  },
  {
   "cell_type": "code",
   "execution_count": 2,
   "id": "8b6e736c",
   "metadata": {
    "execution": {
     "iopub.execute_input": "2024-04-24T16:39:37.632766Z",
     "iopub.status.busy": "2024-04-24T16:39:37.632016Z",
     "iopub.status.idle": "2024-04-24T16:39:37.637400Z",
     "shell.execute_reply": "2024-04-24T16:39:37.636666Z",
     "shell.execute_reply.started": "2024-04-24T16:39:37.632727Z"
    }
   },
   "outputs": [],
   "source": [
    "#!pip install nltk"
   ]
  },
  {
   "cell_type": "code",
   "execution_count": 3,
   "id": "cb2233cc",
   "metadata": {
    "execution": {
     "iopub.execute_input": "2024-04-24T16:39:37.639302Z",
     "iopub.status.busy": "2024-04-24T16:39:37.638756Z",
     "iopub.status.idle": "2024-04-24T16:39:38.621148Z",
     "shell.execute_reply": "2024-04-24T16:39:38.620033Z",
     "shell.execute_reply.started": "2024-04-24T16:39:37.639273Z"
    }
   },
   "outputs": [],
   "source": [
    "import numpy as np\n",
    "import pandas as pd\n",
    "import pickle"
   ]
  },
  {
   "cell_type": "code",
   "execution_count": 4,
   "id": "c8badf21",
   "metadata": {
    "execution": {
     "iopub.execute_input": "2024-04-24T16:39:38.622845Z",
     "iopub.status.busy": "2024-04-24T16:39:38.622389Z",
     "iopub.status.idle": "2024-04-24T16:39:40.549801Z",
     "shell.execute_reply": "2024-04-24T16:39:40.548739Z",
     "shell.execute_reply.started": "2024-04-24T16:39:38.622815Z"
    }
   },
   "outputs": [],
   "source": [
    "import pprint\n",
    "import nltk\n",
    "from nltk.tokenize import word_tokenize\n",
    "from nltk.corpus import stopwords"
   ]
  },
  {
   "cell_type": "markdown",
   "id": "3bf11827",
   "metadata": {},
   "source": [
    "## Data Collection "
   ]
  },
  {
   "cell_type": "code",
   "execution_count": 5,
   "id": "7f85055f",
   "metadata": {
    "execution": {
     "iopub.execute_input": "2024-04-24T16:39:40.553953Z",
     "iopub.status.busy": "2024-04-24T16:39:40.553172Z",
     "iopub.status.idle": "2024-04-24T16:39:40.595166Z",
     "shell.execute_reply": "2024-04-24T16:39:40.594181Z",
     "shell.execute_reply.started": "2024-04-24T16:39:40.553914Z"
    }
   },
   "outputs": [],
   "source": [
    "data=pd.read_csv(\"/kaggle/input/dataset3/spam.csv\")"
   ]
  },
  {
   "cell_type": "code",
   "execution_count": 6,
   "id": "51ba3e1a",
   "metadata": {
    "execution": {
     "iopub.execute_input": "2024-04-24T16:39:40.596691Z",
     "iopub.status.busy": "2024-04-24T16:39:40.596293Z",
     "iopub.status.idle": "2024-04-24T16:39:40.614516Z",
     "shell.execute_reply": "2024-04-24T16:39:40.613593Z",
     "shell.execute_reply.started": "2024-04-24T16:39:40.596648Z"
    }
   },
   "outputs": [
    {
     "name": "stdout",
     "output_type": "stream",
     "text": [
      "     Category                                            Message\n",
      "0         ham  Go until jurong point, crazy.. Available only ...\n",
      "1         ham                      Ok lar... Joking wif u oni...\n",
      "2        spam  Free entry in 2 a wkly comp to win FA Cup fina...\n",
      "3         ham  U dun say so early hor... U c already then say...\n",
      "4         ham  Nah I don't think he goes to usf, he lives aro...\n",
      "...       ...                                                ...\n",
      "5567     spam  This is the 2nd time we have tried 2 contact u...\n",
      "5568      ham               Will ü b going to esplanade fr home?\n",
      "5569      ham  Pity, * was in mood for that. So...any other s...\n",
      "5570      ham  The guy did some bitching but I acted like i'd...\n",
      "5571      ham                         Rofl. Its true to its name\n",
      "\n",
      "[5572 rows x 2 columns]\n"
     ]
    }
   ],
   "source": [
    "df=pd.DataFrame(data)\n",
    "print(df)"
   ]
  },
  {
   "cell_type": "markdown",
   "id": "58effc6c",
   "metadata": {},
   "source": [
    "## Data Analysis and Cleaning"
   ]
  },
  {
   "cell_type": "code",
   "execution_count": 7,
   "id": "50e1ce7f",
   "metadata": {
    "execution": {
     "iopub.execute_input": "2024-04-24T16:39:40.616870Z",
     "iopub.status.busy": "2024-04-24T16:39:40.616158Z",
     "iopub.status.idle": "2024-04-24T16:39:40.625229Z",
     "shell.execute_reply": "2024-04-24T16:39:40.624141Z",
     "shell.execute_reply.started": "2024-04-24T16:39:40.616832Z"
    }
   },
   "outputs": [
    {
     "data": {
      "text/plain": [
       "Index(['Category', 'Message'], dtype='object')"
      ]
     },
     "execution_count": 7,
     "metadata": {},
     "output_type": "execute_result"
    }
   ],
   "source": [
    "df.columns"
   ]
  },
  {
   "cell_type": "code",
   "execution_count": 8,
   "id": "d0da4220",
   "metadata": {
    "execution": {
     "iopub.execute_input": "2024-04-24T16:39:40.627957Z",
     "iopub.status.busy": "2024-04-24T16:39:40.627147Z",
     "iopub.status.idle": "2024-04-24T16:39:40.654677Z",
     "shell.execute_reply": "2024-04-24T16:39:40.653765Z",
     "shell.execute_reply.started": "2024-04-24T16:39:40.627922Z"
    }
   },
   "outputs": [
    {
     "name": "stdout",
     "output_type": "stream",
     "text": [
      "<class 'pandas.core.frame.DataFrame'>\n",
      "RangeIndex: 5572 entries, 0 to 5571\n",
      "Data columns (total 2 columns):\n",
      " #   Column    Non-Null Count  Dtype \n",
      "---  ------    --------------  ----- \n",
      " 0   Category  5572 non-null   object\n",
      " 1   Message   5572 non-null   object\n",
      "dtypes: object(2)\n",
      "memory usage: 87.2+ KB\n"
     ]
    }
   ],
   "source": [
    "df.info()"
   ]
  },
  {
   "cell_type": "code",
   "execution_count": 9,
   "id": "b21bdbb4",
   "metadata": {
    "execution": {
     "iopub.execute_input": "2024-04-24T16:39:40.656940Z",
     "iopub.status.busy": "2024-04-24T16:39:40.656256Z",
     "iopub.status.idle": "2024-04-24T16:39:40.673087Z",
     "shell.execute_reply": "2024-04-24T16:39:40.671924Z",
     "shell.execute_reply.started": "2024-04-24T16:39:40.656904Z"
    }
   },
   "outputs": [
    {
     "name": "stdout",
     "output_type": "stream",
     "text": [
      "     Category                                            Message\n",
      "103       ham  As per your request 'Melle Melle (Oru Minnamin...\n",
      "154       ham  As per your request 'Melle Melle (Oru Minnamin...\n",
      "207       ham  As I entered my cabin my PA said, '' Happy B'd...\n",
      "223       ham                             Sorry, I'll call later\n",
      "326       ham                   No calls..messages..missed calls\n",
      "...       ...                                                ...\n",
      "5524     spam  You are awarded a SiPix Digital Camera! call 0...\n",
      "5535      ham  I know you are thinkin malaria. But relax, chi...\n",
      "5539      ham                         Just sleeping..and surfing\n",
      "5553      ham                        Hahaha..use your brain dear\n",
      "5558      ham                             Sorry, I'll call later\n",
      "\n",
      "[415 rows x 2 columns]\n"
     ]
    }
   ],
   "source": [
    "df.duplicated().sum()\n",
    "print(df[df.duplicated()])"
   ]
  },
  {
   "cell_type": "code",
   "execution_count": 10,
   "id": "a5f7caa8",
   "metadata": {
    "execution": {
     "iopub.execute_input": "2024-04-24T16:39:40.675387Z",
     "iopub.status.busy": "2024-04-24T16:39:40.675086Z",
     "iopub.status.idle": "2024-04-24T16:39:40.684612Z",
     "shell.execute_reply": "2024-04-24T16:39:40.683838Z",
     "shell.execute_reply.started": "2024-04-24T16:39:40.675362Z"
    }
   },
   "outputs": [],
   "source": [
    "df.drop_duplicates(inplace=True)"
   ]
  },
  {
   "cell_type": "code",
   "execution_count": 11,
   "id": "39621945",
   "metadata": {
    "execution": {
     "iopub.execute_input": "2024-04-24T16:39:40.686855Z",
     "iopub.status.busy": "2024-04-24T16:39:40.686034Z",
     "iopub.status.idle": "2024-04-24T16:39:40.703962Z",
     "shell.execute_reply": "2024-04-24T16:39:40.703024Z",
     "shell.execute_reply.started": "2024-04-24T16:39:40.686826Z"
    }
   },
   "outputs": [
    {
     "data": {
      "text/html": [
       "<div>\n",
       "<style scoped>\n",
       "    .dataframe tbody tr th:only-of-type {\n",
       "        vertical-align: middle;\n",
       "    }\n",
       "\n",
       "    .dataframe tbody tr th {\n",
       "        vertical-align: top;\n",
       "    }\n",
       "\n",
       "    .dataframe thead th {\n",
       "        text-align: right;\n",
       "    }\n",
       "</style>\n",
       "<table border=\"1\" class=\"dataframe\">\n",
       "  <thead>\n",
       "    <tr style=\"text-align: right;\">\n",
       "      <th></th>\n",
       "      <th>Category</th>\n",
       "      <th>Message</th>\n",
       "    </tr>\n",
       "  </thead>\n",
       "  <tbody>\n",
       "    <tr>\n",
       "      <th>0</th>\n",
       "      <td>ham</td>\n",
       "      <td>Go until jurong point, crazy.. Available only ...</td>\n",
       "    </tr>\n",
       "    <tr>\n",
       "      <th>1</th>\n",
       "      <td>ham</td>\n",
       "      <td>Ok lar... Joking wif u oni...</td>\n",
       "    </tr>\n",
       "    <tr>\n",
       "      <th>2</th>\n",
       "      <td>spam</td>\n",
       "      <td>Free entry in 2 a wkly comp to win FA Cup fina...</td>\n",
       "    </tr>\n",
       "    <tr>\n",
       "      <th>3</th>\n",
       "      <td>ham</td>\n",
       "      <td>U dun say so early hor... U c already then say...</td>\n",
       "    </tr>\n",
       "    <tr>\n",
       "      <th>4</th>\n",
       "      <td>ham</td>\n",
       "      <td>Nah I don't think he goes to usf, he lives aro...</td>\n",
       "    </tr>\n",
       "    <tr>\n",
       "      <th>...</th>\n",
       "      <td>...</td>\n",
       "      <td>...</td>\n",
       "    </tr>\n",
       "    <tr>\n",
       "      <th>5567</th>\n",
       "      <td>spam</td>\n",
       "      <td>This is the 2nd time we have tried 2 contact u...</td>\n",
       "    </tr>\n",
       "    <tr>\n",
       "      <th>5568</th>\n",
       "      <td>ham</td>\n",
       "      <td>Will ü b going to esplanade fr home?</td>\n",
       "    </tr>\n",
       "    <tr>\n",
       "      <th>5569</th>\n",
       "      <td>ham</td>\n",
       "      <td>Pity, * was in mood for that. So...any other s...</td>\n",
       "    </tr>\n",
       "    <tr>\n",
       "      <th>5570</th>\n",
       "      <td>ham</td>\n",
       "      <td>The guy did some bitching but I acted like i'd...</td>\n",
       "    </tr>\n",
       "    <tr>\n",
       "      <th>5571</th>\n",
       "      <td>ham</td>\n",
       "      <td>Rofl. Its true to its name</td>\n",
       "    </tr>\n",
       "  </tbody>\n",
       "</table>\n",
       "<p>5157 rows × 2 columns</p>\n",
       "</div>"
      ],
      "text/plain": [
       "     Category                                            Message\n",
       "0         ham  Go until jurong point, crazy.. Available only ...\n",
       "1         ham                      Ok lar... Joking wif u oni...\n",
       "2        spam  Free entry in 2 a wkly comp to win FA Cup fina...\n",
       "3         ham  U dun say so early hor... U c already then say...\n",
       "4         ham  Nah I don't think he goes to usf, he lives aro...\n",
       "...       ...                                                ...\n",
       "5567     spam  This is the 2nd time we have tried 2 contact u...\n",
       "5568      ham               Will ü b going to esplanade fr home?\n",
       "5569      ham  Pity, * was in mood for that. So...any other s...\n",
       "5570      ham  The guy did some bitching but I acted like i'd...\n",
       "5571      ham                         Rofl. Its true to its name\n",
       "\n",
       "[5157 rows x 2 columns]"
      ]
     },
     "execution_count": 11,
     "metadata": {},
     "output_type": "execute_result"
    }
   ],
   "source": [
    "df"
   ]
  },
  {
   "cell_type": "code",
   "execution_count": 12,
   "id": "00d158c7",
   "metadata": {
    "execution": {
     "iopub.execute_input": "2024-04-24T16:39:40.706321Z",
     "iopub.status.busy": "2024-04-24T16:39:40.705406Z",
     "iopub.status.idle": "2024-04-24T16:39:40.710953Z",
     "shell.execute_reply": "2024-04-24T16:39:40.710117Z",
     "shell.execute_reply.started": "2024-04-24T16:39:40.706283Z"
    }
   },
   "outputs": [],
   "source": [
    "y=df['Category']"
   ]
  },
  {
   "cell_type": "code",
   "execution_count": 13,
   "id": "deda5a41",
   "metadata": {
    "execution": {
     "iopub.execute_input": "2024-04-24T16:39:40.712926Z",
     "iopub.status.busy": "2024-04-24T16:39:40.712522Z",
     "iopub.status.idle": "2024-04-24T16:39:40.722393Z",
     "shell.execute_reply": "2024-04-24T16:39:40.721403Z",
     "shell.execute_reply.started": "2024-04-24T16:39:40.712892Z"
    }
   },
   "outputs": [],
   "source": [
    "X=df['Message']"
   ]
  },
  {
   "cell_type": "code",
   "execution_count": 14,
   "id": "cd499401",
   "metadata": {
    "execution": {
     "iopub.execute_input": "2024-04-24T16:39:40.728464Z",
     "iopub.status.busy": "2024-04-24T16:39:40.728169Z",
     "iopub.status.idle": "2024-04-24T16:39:40.737117Z",
     "shell.execute_reply": "2024-04-24T16:39:40.736190Z",
     "shell.execute_reply.started": "2024-04-24T16:39:40.728440Z"
    }
   },
   "outputs": [
    {
     "data": {
      "text/plain": [
       "0        ham\n",
       "1        ham\n",
       "2       spam\n",
       "3        ham\n",
       "4        ham\n",
       "        ... \n",
       "5567    spam\n",
       "5568     ham\n",
       "5569     ham\n",
       "5570     ham\n",
       "5571     ham\n",
       "Name: Category, Length: 5157, dtype: object"
      ]
     },
     "execution_count": 14,
     "metadata": {},
     "output_type": "execute_result"
    }
   ],
   "source": [
    "y"
   ]
  },
  {
   "cell_type": "code",
   "execution_count": 15,
   "id": "18932f0c",
   "metadata": {
    "execution": {
     "iopub.execute_input": "2024-04-24T16:39:40.738763Z",
     "iopub.status.busy": "2024-04-24T16:39:40.738432Z",
     "iopub.status.idle": "2024-04-24T16:39:40.748528Z",
     "shell.execute_reply": "2024-04-24T16:39:40.747544Z",
     "shell.execute_reply.started": "2024-04-24T16:39:40.738735Z"
    }
   },
   "outputs": [
    {
     "data": {
      "text/plain": [
       "11    SIX chances to win CASH! From 100 to 20,000 po...\n",
       "12    URGENT! You have won a 1 week FREE membership ...\n",
       "13    I've been searching for the right words to tha...\n",
       "14                  I HAVE A DATE ON SUNDAY WITH WILL!!\n",
       "Name: Message, dtype: object"
      ]
     },
     "execution_count": 15,
     "metadata": {},
     "output_type": "execute_result"
    }
   ],
   "source": [
    "X[11:15]"
   ]
  },
  {
   "cell_type": "code",
   "execution_count": null,
   "id": "4f4415ad",
   "metadata": {},
   "outputs": [],
   "source": []
  },
  {
   "cell_type": "code",
   "execution_count": 16,
   "id": "a4c43f3a",
   "metadata": {
    "execution": {
     "iopub.execute_input": "2024-04-24T16:39:40.750266Z",
     "iopub.status.busy": "2024-04-24T16:39:40.749823Z",
     "iopub.status.idle": "2024-04-24T16:39:40.757474Z",
     "shell.execute_reply": "2024-04-24T16:39:40.756755Z",
     "shell.execute_reply.started": "2024-04-24T16:39:40.750238Z"
    }
   },
   "outputs": [],
   "source": [
    "def text_cleaning(corpus):\n",
    "\n",
    "    #lower case the corpus\n",
    "    corpus = str(corpus).lower()\n",
    "    #print(corpus)\n",
    "\n",
    "    #removing digits in the corpus\n",
    "    import re\n",
    "    corpus = re.sub(r'\\d+','', corpus)\n",
    "    #print(\"\\n\",corpus)\n",
    "\n",
    "    #removing punctuations\n",
    "    import string\n",
    "    corpus = corpus.translate(str.maketrans('', '', string.punctuation))\n",
    "    #print(\"\\n\",corpus)\n",
    "\n",
    "    #removing trailing whitespaces\n",
    "    corpus = ' '.join([token for token in corpus.split()])\n",
    "    #print(\"\\n\",corpus)\n",
    "\n",
    "    tokenized_corpus_nltk = word_tokenize(corpus)\n",
    "    #print(\"\\nNLTK\\nTokenized corpus\\n\",tokenized_corpus_nltk)\n",
    "\n",
    "    stop_words_nltk = set(stopwords.words('english'))\n",
    "    #pprint.pprint(stop_words_nltk)\n",
    "\n",
    "    tokenized_corpus_without_stopwords = [i for i in tokenized_corpus_nltk if i not in stop_words_nltk]\n",
    "    #print(\"Tokenized corpus without stopwords:\",\" \".join(tokenized_corpus_without_stopwords))\n",
    "    return \" \".join(tokenized_corpus_without_stopwords)"
   ]
  },
  {
   "cell_type": "code",
   "execution_count": 17,
   "id": "45094318",
   "metadata": {
    "execution": {
     "iopub.execute_input": "2024-04-24T16:39:40.758932Z",
     "iopub.status.busy": "2024-04-24T16:39:40.758621Z",
     "iopub.status.idle": "2024-04-24T16:39:42.395499Z",
     "shell.execute_reply": "2024-04-24T16:39:42.394650Z",
     "shell.execute_reply.started": "2024-04-24T16:39:40.758907Z"
    }
   },
   "outputs": [],
   "source": [
    "X=X.apply(text_cleaning)"
   ]
  },
  {
   "cell_type": "code",
   "execution_count": 18,
   "id": "65f92841",
   "metadata": {
    "execution": {
     "iopub.execute_input": "2024-04-24T16:39:42.397011Z",
     "iopub.status.busy": "2024-04-24T16:39:42.396660Z",
     "iopub.status.idle": "2024-04-24T16:39:42.402916Z",
     "shell.execute_reply": "2024-04-24T16:39:42.402107Z",
     "shell.execute_reply.started": "2024-04-24T16:39:42.396982Z"
    }
   },
   "outputs": [
    {
     "data": {
      "text/plain": [
       "'free entry wkly comp win fa cup final tkts st may text fa receive entry questionstd txt ratetcs apply overs'"
      ]
     },
     "execution_count": 18,
     "metadata": {},
     "output_type": "execute_result"
    }
   ],
   "source": [
    "X[2]"
   ]
  },
  {
   "cell_type": "markdown",
   "id": "b3359462",
   "metadata": {},
   "source": [
    "## Features Extraction"
   ]
  },
  {
   "cell_type": "code",
   "execution_count": 19,
   "id": "e5c441e9",
   "metadata": {
    "execution": {
     "iopub.execute_input": "2024-04-24T16:39:42.405052Z",
     "iopub.status.busy": "2024-04-24T16:39:42.403933Z",
     "iopub.status.idle": "2024-04-24T16:39:42.411854Z",
     "shell.execute_reply": "2024-04-24T16:39:42.410858Z",
     "shell.execute_reply.started": "2024-04-24T16:39:42.404980Z"
    }
   },
   "outputs": [],
   "source": [
    "from sklearn.preprocessing import LabelEncoder\n",
    "Encoder=LabelEncoder()"
   ]
  },
  {
   "cell_type": "code",
   "execution_count": 20,
   "id": "ef07d3ca",
   "metadata": {
    "execution": {
     "iopub.execute_input": "2024-04-24T16:39:42.413943Z",
     "iopub.status.busy": "2024-04-24T16:39:42.413045Z",
     "iopub.status.idle": "2024-04-24T16:39:42.424536Z",
     "shell.execute_reply": "2024-04-24T16:39:42.423414Z",
     "shell.execute_reply.started": "2024-04-24T16:39:42.413915Z"
    }
   },
   "outputs": [
    {
     "name": "stdout",
     "output_type": "stream",
     "text": [
      "['ham' 'spam']\n",
      "[0 1]\n",
      "Label Mapping: {'ham': 0, 'spam': 1}\n",
      "[0 0 1 ... 0 0 0]\n"
     ]
    }
   ],
   "source": [
    "y=Encoder.fit_transform(y)\n",
    "print(Encoder.classes_)\n",
    "print(Encoder.transform(Encoder.classes_))\n",
    "label_mapping = dict(zip(Encoder.classes_, Encoder.transform(Encoder.classes_)))\n",
    "print(\"Label Mapping:\",label_mapping)\n",
    "print(y)"
   ]
  },
  {
   "cell_type": "markdown",
   "id": "d27e2e9c",
   "metadata": {},
   "source": [
    "### Train-Test-split"
   ]
  },
  {
   "cell_type": "code",
   "execution_count": 21,
   "id": "992602a8",
   "metadata": {
    "execution": {
     "iopub.execute_input": "2024-04-24T16:39:42.426559Z",
     "iopub.status.busy": "2024-04-24T16:39:42.426178Z",
     "iopub.status.idle": "2024-04-24T16:39:42.435057Z",
     "shell.execute_reply": "2024-04-24T16:39:42.434276Z",
     "shell.execute_reply.started": "2024-04-24T16:39:42.426525Z"
    }
   },
   "outputs": [],
   "source": [
    "from sklearn.model_selection import train_test_split"
   ]
  },
  {
   "cell_type": "code",
   "execution_count": 22,
   "id": "754fdfe8",
   "metadata": {
    "execution": {
     "iopub.execute_input": "2024-04-24T16:39:42.437004Z",
     "iopub.status.busy": "2024-04-24T16:39:42.436151Z",
     "iopub.status.idle": "2024-04-24T16:39:42.447452Z",
     "shell.execute_reply": "2024-04-24T16:39:42.446315Z",
     "shell.execute_reply.started": "2024-04-24T16:39:42.436975Z"
    }
   },
   "outputs": [],
   "source": [
    "X_train,X_test,y_train,y_test=train_test_split(X,y,test_size=0.2,random_state=42)"
   ]
  },
  {
   "cell_type": "code",
   "execution_count": 23,
   "id": "fe9b7360",
   "metadata": {
    "execution": {
     "iopub.execute_input": "2024-04-24T16:39:42.449200Z",
     "iopub.status.busy": "2024-04-24T16:39:42.448884Z",
     "iopub.status.idle": "2024-04-24T16:39:42.456191Z",
     "shell.execute_reply": "2024-04-24T16:39:42.455169Z",
     "shell.execute_reply.started": "2024-04-24T16:39:42.449167Z"
    }
   },
   "outputs": [
    {
     "name": "stdout",
     "output_type": "stream",
     "text": [
      "4125\n"
     ]
    }
   ],
   "source": [
    "print(len(X_train))"
   ]
  },
  {
   "cell_type": "code",
   "execution_count": 24,
   "id": "a0b80e49",
   "metadata": {
    "execution": {
     "iopub.execute_input": "2024-04-24T16:39:42.458235Z",
     "iopub.status.busy": "2024-04-24T16:39:42.457854Z",
     "iopub.status.idle": "2024-04-24T16:39:42.465461Z",
     "shell.execute_reply": "2024-04-24T16:39:42.464820Z",
     "shell.execute_reply.started": "2024-04-24T16:39:42.458201Z"
    }
   },
   "outputs": [
    {
     "name": "stdout",
     "output_type": "stream",
     "text": [
      "4125\n"
     ]
    }
   ],
   "source": [
    "print(len(y_train))"
   ]
  },
  {
   "cell_type": "markdown",
   "id": "31eefe69",
   "metadata": {},
   "source": [
    "## Bag of Words"
   ]
  },
  {
   "cell_type": "code",
   "execution_count": 25,
   "id": "f995d46c",
   "metadata": {
    "execution": {
     "iopub.execute_input": "2024-04-24T16:39:42.467286Z",
     "iopub.status.busy": "2024-04-24T16:39:42.466332Z",
     "iopub.status.idle": "2024-04-24T16:39:42.475419Z",
     "shell.execute_reply": "2024-04-24T16:39:42.474361Z",
     "shell.execute_reply.started": "2024-04-24T16:39:42.467255Z"
    }
   },
   "outputs": [],
   "source": [
    "from sklearn.feature_extraction.text import CountVectorizer"
   ]
  },
  {
   "cell_type": "code",
   "execution_count": 26,
   "id": "81de01c4",
   "metadata": {
    "execution": {
     "iopub.execute_input": "2024-04-24T16:39:42.477860Z",
     "iopub.status.busy": "2024-04-24T16:39:42.476795Z",
     "iopub.status.idle": "2024-04-24T16:39:42.486961Z",
     "shell.execute_reply": "2024-04-24T16:39:42.486080Z",
     "shell.execute_reply.started": "2024-04-24T16:39:42.477811Z"
    }
   },
   "outputs": [],
   "source": [
    "cv=CountVectorizer()"
   ]
  },
  {
   "cell_type": "code",
   "execution_count": 27,
   "id": "5b924f6f",
   "metadata": {
    "execution": {
     "iopub.execute_input": "2024-04-24T16:39:42.488820Z",
     "iopub.status.busy": "2024-04-24T16:39:42.488414Z",
     "iopub.status.idle": "2024-04-24T16:39:42.566438Z",
     "shell.execute_reply": "2024-04-24T16:39:42.565447Z",
     "shell.execute_reply.started": "2024-04-24T16:39:42.488786Z"
    }
   },
   "outputs": [
    {
     "name": "stdout",
     "output_type": "stream",
     "text": [
      "(4125, 7367)\n"
     ]
    }
   ],
   "source": [
    "X_train_bow=cv.fit_transform(X_train)\n",
    "print(X_train_bow.shape)"
   ]
  },
  {
   "cell_type": "code",
   "execution_count": 28,
   "id": "3d193a4f",
   "metadata": {
    "execution": {
     "iopub.execute_input": "2024-04-24T16:39:42.568569Z",
     "iopub.status.busy": "2024-04-24T16:39:42.568150Z",
     "iopub.status.idle": "2024-04-24T16:39:42.585071Z",
     "shell.execute_reply": "2024-04-24T16:39:42.584028Z",
     "shell.execute_reply.started": "2024-04-24T16:39:42.568531Z"
    }
   },
   "outputs": [
    {
     "name": "stdout",
     "output_type": "stream",
     "text": [
      "(1032, 7367)\n"
     ]
    }
   ],
   "source": [
    "X_test_bow=cv.transform(X_test)\n",
    "print(X_test_bow.shape)"
   ]
  },
  {
   "cell_type": "code",
   "execution_count": 29,
   "id": "9881a805",
   "metadata": {
    "execution": {
     "iopub.execute_input": "2024-04-24T16:39:42.587301Z",
     "iopub.status.busy": "2024-04-24T16:39:42.586895Z",
     "iopub.status.idle": "2024-04-24T16:39:42.596836Z",
     "shell.execute_reply": "2024-04-24T16:39:42.595928Z",
     "shell.execute_reply.started": "2024-04-24T16:39:42.587265Z"
    }
   },
   "outputs": [],
   "source": [
    "dictionary=cv.vocabulary_\n",
    "#print(dictionary)\n",
    "inverse_dict_values={u:v for v,u in dictionary.items()}\n",
    "#print(inverse_dict_values)"
   ]
  },
  {
   "cell_type": "code",
   "execution_count": 30,
   "id": "018a0ebb",
   "metadata": {
    "execution": {
     "iopub.execute_input": "2024-04-24T16:39:42.601065Z",
     "iopub.status.busy": "2024-04-24T16:39:42.599513Z",
     "iopub.status.idle": "2024-04-24T16:39:42.608315Z",
     "shell.execute_reply": "2024-04-24T16:39:42.607249Z",
     "shell.execute_reply.started": "2024-04-24T16:39:42.601027Z"
    }
   },
   "outputs": [],
   "source": [
    "#dir(cv)"
   ]
  },
  {
   "cell_type": "code",
   "execution_count": 31,
   "id": "d754b3f8",
   "metadata": {
    "execution": {
     "iopub.execute_input": "2024-04-24T16:39:42.610813Z",
     "iopub.status.busy": "2024-04-24T16:39:42.609966Z",
     "iopub.status.idle": "2024-04-24T16:39:42.775712Z",
     "shell.execute_reply": "2024-04-24T16:39:42.774512Z",
     "shell.execute_reply.started": "2024-04-24T16:39:42.610774Z"
    }
   },
   "outputs": [
    {
     "name": "stdout",
     "output_type": "stream",
     "text": [
      "(1032, 7367)\n"
     ]
    }
   ],
   "source": [
    "X_train_bow=cv.fit_transform(X_train).toarray()\n",
    "X_test_bow=cv.transform(X_test).toarray()\n",
    "print(X_test_bow.shape)"
   ]
  },
  {
   "cell_type": "code",
   "execution_count": 32,
   "id": "727d176e",
   "metadata": {
    "execution": {
     "iopub.execute_input": "2024-04-24T16:39:42.777763Z",
     "iopub.status.busy": "2024-04-24T16:39:42.776992Z",
     "iopub.status.idle": "2024-04-24T16:39:42.781471Z",
     "shell.execute_reply": "2024-04-24T16:39:42.780527Z",
     "shell.execute_reply.started": "2024-04-24T16:39:42.777728Z"
    }
   },
   "outputs": [],
   "source": [
    "#print(cv.vocabulary_)"
   ]
  },
  {
   "cell_type": "code",
   "execution_count": 33,
   "id": "4a64279a",
   "metadata": {
    "execution": {
     "iopub.execute_input": "2024-04-24T16:39:42.783295Z",
     "iopub.status.busy": "2024-04-24T16:39:42.782814Z",
     "iopub.status.idle": "2024-04-24T16:39:42.798773Z",
     "shell.execute_reply": "2024-04-24T16:39:42.797788Z",
     "shell.execute_reply.started": "2024-04-24T16:39:42.783268Z"
    }
   },
   "outputs": [],
   "source": [
    "with open('BOWvectorizer.pkl', 'wb') as file:\n",
    "    pickle.dump(cv, file)"
   ]
  },
  {
   "cell_type": "markdown",
   "id": "87ec2392",
   "metadata": {},
   "source": [
    "## Bag of N-Grames"
   ]
  },
  {
   "cell_type": "code",
   "execution_count": 34,
   "id": "78fecd3b",
   "metadata": {
    "execution": {
     "iopub.execute_input": "2024-04-24T16:39:42.800202Z",
     "iopub.status.busy": "2024-04-24T16:39:42.799908Z",
     "iopub.status.idle": "2024-04-24T16:39:42.807316Z",
     "shell.execute_reply": "2024-04-24T16:39:42.806402Z",
     "shell.execute_reply.started": "2024-04-24T16:39:42.800178Z"
    }
   },
   "outputs": [],
   "source": [
    "cvn=CountVectorizer(ngram_range=(1,2))"
   ]
  },
  {
   "cell_type": "code",
   "execution_count": 35,
   "id": "2f885689",
   "metadata": {
    "execution": {
     "iopub.execute_input": "2024-04-24T16:39:42.808800Z",
     "iopub.status.busy": "2024-04-24T16:39:42.808469Z",
     "iopub.status.idle": "2024-04-24T16:39:43.071987Z",
     "shell.execute_reply": "2024-04-24T16:39:43.070954Z",
     "shell.execute_reply.started": "2024-04-24T16:39:42.808775Z"
    }
   },
   "outputs": [
    {
     "name": "stdout",
     "output_type": "stream",
     "text": [
      "(4125, 32507)\n"
     ]
    }
   ],
   "source": [
    "\n",
    "X_train_bown=cvn.fit_transform(X_train).toarray()\n",
    "print(X_train_bown.shape)"
   ]
  },
  {
   "cell_type": "code",
   "execution_count": 36,
   "id": "88b4d6e5",
   "metadata": {
    "execution": {
     "iopub.execute_input": "2024-04-24T16:39:43.073423Z",
     "iopub.status.busy": "2024-04-24T16:39:43.073145Z",
     "iopub.status.idle": "2024-04-24T16:39:43.120862Z",
     "shell.execute_reply": "2024-04-24T16:39:43.119753Z",
     "shell.execute_reply.started": "2024-04-24T16:39:43.073400Z"
    }
   },
   "outputs": [
    {
     "name": "stdout",
     "output_type": "stream",
     "text": [
      "(1032, 32507)\n"
     ]
    }
   ],
   "source": [
    "X_test_bown=cvn.transform(X_test).toarray()\n",
    "print(X_test_bown.shape)"
   ]
  },
  {
   "cell_type": "code",
   "execution_count": 37,
   "id": "d52808ca",
   "metadata": {
    "execution": {
     "iopub.execute_input": "2024-04-24T16:39:43.122491Z",
     "iopub.status.busy": "2024-04-24T16:39:43.122097Z",
     "iopub.status.idle": "2024-04-24T16:39:43.126800Z",
     "shell.execute_reply": "2024-04-24T16:39:43.126054Z",
     "shell.execute_reply.started": "2024-04-24T16:39:43.122455Z"
    }
   },
   "outputs": [],
   "source": [
    "#print(cvn.vocabulary_)"
   ]
  },
  {
   "cell_type": "code",
   "execution_count": 38,
   "id": "4a694870",
   "metadata": {
    "execution": {
     "iopub.execute_input": "2024-04-24T16:39:43.128597Z",
     "iopub.status.busy": "2024-04-24T16:39:43.127939Z",
     "iopub.status.idle": "2024-04-24T16:39:43.147617Z",
     "shell.execute_reply": "2024-04-24T16:39:43.146660Z",
     "shell.execute_reply.started": "2024-04-24T16:39:43.128525Z"
    }
   },
   "outputs": [],
   "source": [
    "with open('BOWNvectorizer.pkl', 'wb') as file:\n",
    "    pickle.dump(cvn, file)"
   ]
  },
  {
   "cell_type": "markdown",
   "id": "42234a16",
   "metadata": {},
   "source": [
    "# TF-IDF"
   ]
  },
  {
   "cell_type": "code",
   "execution_count": 39,
   "id": "a5c0ec05",
   "metadata": {
    "execution": {
     "iopub.execute_input": "2024-04-24T16:39:43.149514Z",
     "iopub.status.busy": "2024-04-24T16:39:43.148989Z",
     "iopub.status.idle": "2024-04-24T16:39:43.154300Z",
     "shell.execute_reply": "2024-04-24T16:39:43.153509Z",
     "shell.execute_reply.started": "2024-04-24T16:39:43.149476Z"
    }
   },
   "outputs": [
    {
     "name": "stdout",
     "output_type": "stream",
     "text": [
      "['go', 'jurong', 'point', 'crazy', 'available', 'bugis', 'n', 'great', 'world', 'la', 'e', 'buffet', 'cine', 'got', 'amore', 'wat']\n"
     ]
    }
   ],
   "source": [
    "test_text=X_train[0].split()\n",
    "print(test_text)"
   ]
  },
  {
   "cell_type": "code",
   "execution_count": 40,
   "id": "de574994",
   "metadata": {
    "execution": {
     "iopub.execute_input": "2024-04-24T16:39:43.156296Z",
     "iopub.status.busy": "2024-04-24T16:39:43.155476Z",
     "iopub.status.idle": "2024-04-24T16:39:43.163338Z",
     "shell.execute_reply": "2024-04-24T16:39:43.162590Z",
     "shell.execute_reply.started": "2024-04-24T16:39:43.156269Z"
    }
   },
   "outputs": [],
   "source": [
    "from sklearn.feature_extraction.text import TfidfVectorizer\n",
    "tfidf=TfidfVectorizer()"
   ]
  },
  {
   "cell_type": "code",
   "execution_count": 41,
   "id": "5a89dd5e",
   "metadata": {
    "execution": {
     "iopub.execute_input": "2024-04-24T16:39:43.175854Z",
     "iopub.status.busy": "2024-04-24T16:39:43.175197Z",
     "iopub.status.idle": "2024-04-24T16:39:43.388862Z",
     "shell.execute_reply": "2024-04-24T16:39:43.387830Z",
     "shell.execute_reply.started": "2024-04-24T16:39:43.175820Z"
    }
   },
   "outputs": [
    {
     "name": "stdout",
     "output_type": "stream",
     "text": [
      "[[0. 0. 0. ... 0. 0. 0.]\n",
      " [0. 0. 0. ... 0. 0. 0.]\n",
      " [0. 0. 0. ... 0. 0. 0.]\n",
      " ...\n",
      " [0. 0. 0. ... 0. 0. 0.]\n",
      " [0. 0. 0. ... 0. 0. 0.]\n",
      " [0. 0. 0. ... 0. 0. 0.]]\n"
     ]
    }
   ],
   "source": [
    "X_train_tfidf=tfidf.fit_transform(X_train).toarray()\n",
    "print(X_train_tfidf)"
   ]
  },
  {
   "cell_type": "code",
   "execution_count": 42,
   "id": "14ef5feb",
   "metadata": {
    "execution": {
     "iopub.execute_input": "2024-04-24T16:39:43.390491Z",
     "iopub.status.busy": "2024-04-24T16:39:43.390188Z",
     "iopub.status.idle": "2024-04-24T16:39:43.442712Z",
     "shell.execute_reply": "2024-04-24T16:39:43.441591Z",
     "shell.execute_reply.started": "2024-04-24T16:39:43.390465Z"
    }
   },
   "outputs": [],
   "source": [
    "X_test_tfidf=tfidf.transform(X_test).toarray()"
   ]
  },
  {
   "cell_type": "code",
   "execution_count": 43,
   "id": "a964c96c",
   "metadata": {
    "execution": {
     "iopub.execute_input": "2024-04-24T16:39:43.444553Z",
     "iopub.status.busy": "2024-04-24T16:39:43.444235Z",
     "iopub.status.idle": "2024-04-24T16:39:43.452103Z",
     "shell.execute_reply": "2024-04-24T16:39:43.450929Z",
     "shell.execute_reply.started": "2024-04-24T16:39:43.444527Z"
    }
   },
   "outputs": [
    {
     "name": "stdout",
     "output_type": "stream",
     "text": [
      "0.3802703024435071\n",
      "0.37367249513124434\n",
      "0.3802703024435071\n",
      "0.39901305453678027\n",
      "0.28044746411394905\n",
      "0.3411036924718259\n",
      "0.2402759164253372\n",
      "0.39901305453678027\n",
      "[2365, 2544, 2893, 2955, 3619, 3988, 5392, 6521]\n"
     ]
    }
   ],
   "source": [
    "count=0\n",
    "list1=[]\n",
    "for i in X_train_tfidf[0]:\n",
    "    if i==0.:\n",
    "        count=count+1\n",
    "        continue\n",
    "    else:\n",
    "        print(i)\n",
    "        list1.append(count)\n",
    "        count=count+1\n",
    "print(list1)"
   ]
  },
  {
   "cell_type": "code",
   "execution_count": 44,
   "id": "67808917",
   "metadata": {
    "execution": {
     "iopub.execute_input": "2024-04-24T16:39:43.455617Z",
     "iopub.status.busy": "2024-04-24T16:39:43.455074Z",
     "iopub.status.idle": "2024-04-24T16:39:43.475721Z",
     "shell.execute_reply": "2024-04-24T16:39:43.474900Z",
     "shell.execute_reply.started": "2024-04-24T16:39:43.455591Z"
    }
   },
   "outputs": [
    {
     "name": "stdout",
     "output_type": "stream",
     "text": [
      "[0. 0. 0. ... 0. 0. 0.]\n"
     ]
    }
   ],
   "source": [
    "print(X_train_tfidf[2])"
   ]
  },
  {
   "cell_type": "code",
   "execution_count": 45,
   "id": "ffc09e61",
   "metadata": {
    "execution": {
     "iopub.execute_input": "2024-04-24T16:39:43.477023Z",
     "iopub.status.busy": "2024-04-24T16:39:43.476759Z",
     "iopub.status.idle": "2024-04-24T16:39:43.492911Z",
     "shell.execute_reply": "2024-04-24T16:39:43.491827Z",
     "shell.execute_reply.started": "2024-04-24T16:39:43.477000Z"
    }
   },
   "outputs": [
    {
     "name": "stdout",
     "output_type": "stream",
     "text": [
      "['go', 'jurong', 'point', 'crazy', 'available', 'bugis', 'n', 'great', 'world', 'la', 'e', 'buffet', 'cine', 'got', 'amore', 'wat']\n"
     ]
    }
   ],
   "source": [
    "print(test_text)"
   ]
  },
  {
   "cell_type": "code",
   "execution_count": 46,
   "id": "b42a370d",
   "metadata": {
    "execution": {
     "iopub.execute_input": "2024-04-24T16:39:43.495160Z",
     "iopub.status.busy": "2024-04-24T16:39:43.494674Z",
     "iopub.status.idle": "2024-04-24T16:39:43.505417Z",
     "shell.execute_reply": "2024-04-24T16:39:43.504579Z",
     "shell.execute_reply.started": "2024-04-24T16:39:43.495124Z"
    }
   },
   "outputs": [],
   "source": [
    "with open('TFIDFvectorizer.pkl', 'wb') as file:\n",
    "    pickle.dump(tfidf, file)"
   ]
  },
  {
   "cell_type": "markdown",
   "id": "43d1976a",
   "metadata": {},
   "source": [
    "## Find the Index values of the words:"
   ]
  },
  {
   "cell_type": "code",
   "execution_count": 47,
   "id": "f346cf36",
   "metadata": {
    "execution": {
     "iopub.execute_input": "2024-04-24T16:39:43.507535Z",
     "iopub.status.busy": "2024-04-24T16:39:43.506643Z",
     "iopub.status.idle": "2024-04-24T16:39:43.515365Z",
     "shell.execute_reply": "2024-04-24T16:39:43.514662Z",
     "shell.execute_reply.started": "2024-04-24T16:39:43.507484Z"
    }
   },
   "outputs": [
    {
     "name": "stdout",
     "output_type": "stream",
     "text": [
      "[2496, 3247, 4746, 1372, 428, 834, -1, 2578, 7148, 3377, -1, 832, 1124, 2544, 222, 6936]\n"
     ]
    }
   ],
   "source": [
    "voc=tfidf.vocabulary_\n",
    "list2=[]\n",
    "for i in test_text:\n",
    "    index = voc.get(i, -1)\n",
    "    list2.append(index)\n",
    "print(list2)"
   ]
  },
  {
   "cell_type": "markdown",
   "id": "ccad9e1f",
   "metadata": {},
   "source": [
    "## Togather the index values and it value:"
   ]
  },
  {
   "cell_type": "code",
   "execution_count": 48,
   "id": "8526db8a",
   "metadata": {
    "execution": {
     "iopub.execute_input": "2024-04-24T16:39:43.517138Z",
     "iopub.status.busy": "2024-04-24T16:39:43.516282Z",
     "iopub.status.idle": "2024-04-24T16:39:43.528031Z",
     "shell.execute_reply": "2024-04-24T16:39:43.527306Z",
     "shell.execute_reply.started": "2024-04-24T16:39:43.517112Z"
    }
   },
   "outputs": [],
   "source": [
    "dictionary=tfidf.vocabulary_\n",
    "#print(dictionary)\n",
    "inverse_dict_values={u:v for v,u in dictionary.items()}\n",
    "#print(inverse_dict_values)"
   ]
  },
  {
   "cell_type": "code",
   "execution_count": 49,
   "id": "b884deef",
   "metadata": {
    "execution": {
     "iopub.execute_input": "2024-04-24T16:39:43.529719Z",
     "iopub.status.busy": "2024-04-24T16:39:43.528889Z",
     "iopub.status.idle": "2024-04-24T16:39:43.548060Z",
     "shell.execute_reply": "2024-04-24T16:39:43.546952Z",
     "shell.execute_reply.started": "2024-04-24T16:39:43.529679Z"
    }
   },
   "outputs": [
    {
     "name": "stdout",
     "output_type": "stream",
     "text": [
      "(2496, 'go')\n",
      "(3247, 'jurong')\n",
      "(4746, 'point')\n",
      "(1372, 'crazy')\n",
      "(428, 'available')\n",
      "(834, 'bugis')\n",
      "(7366, '〨ud')\n",
      "(2578, 'great')\n",
      "(7148, 'world')\n",
      "(3377, 'la')\n",
      "(7366, '〨ud')\n",
      "(832, 'buffet')\n",
      "(1124, 'cine')\n",
      "(2544, 'got')\n",
      "(222, 'amore')\n",
      "(6936, 'wat')\n"
     ]
    }
   ],
   "source": [
    "# Sort the dictionary values and maintain corresponding keys\n",
    "sorted_keys_values = [(key, value) for key, value in sorted(inverse_dict_values.items(), key=lambda item: item[1])]\n",
    "#print(sorted_keys_values)\n",
    "# Print the sorted keys and values\n",
    "for i in list2:\n",
    "    print(sorted_keys_values[i])"
   ]
  },
  {
   "cell_type": "markdown",
   "id": "b8fb6a85",
   "metadata": {},
   "source": [
    "## Find the TF-IDF values by using its Index value:"
   ]
  },
  {
   "cell_type": "code",
   "execution_count": 50,
   "id": "de2fe94a",
   "metadata": {
    "execution": {
     "iopub.execute_input": "2024-04-24T16:39:43.549718Z",
     "iopub.status.busy": "2024-04-24T16:39:43.549324Z",
     "iopub.status.idle": "2024-04-24T16:39:43.571373Z",
     "shell.execute_reply": "2024-04-24T16:39:43.570386Z",
     "shell.execute_reply.started": "2024-04-24T16:39:43.549659Z"
    }
   },
   "outputs": [
    {
     "name": "stdout",
     "output_type": "stream",
     "text": [
      "[0. 0. 0. ... 0. 0. 0.]\n",
      "{2496: 0.0, 3247: 0.0, 4746: 0.0, 1372: 0.0, 428: 0.0, 834: 0.0, 2578: 0.0, 7148: 0.0, 3377: 0.0, 832: 0.0, 1124: 0.0, 2544: 0.37367249513124434, 222: 0.0, 6936: 0.0}\n"
     ]
    }
   ],
   "source": [
    "row=0\n",
    "print(X_train_tfidf[0])\n",
    "dicts={}\n",
    "for i in list2:\n",
    "    count=0\n",
    "    for j in X_train_tfidf[0]:\n",
    "        if count==i:\n",
    "            dicts[count]=X_train_tfidf[row][count]\n",
    "            break\n",
    "        else:\n",
    "            count=count+1\n",
    "print(dicts)\n",
    "             \n",
    "            \n",
    "        \n",
    "    "
   ]
  },
  {
   "cell_type": "markdown",
   "id": "a440238c",
   "metadata": {},
   "source": [
    "## Creating Model "
   ]
  },
  {
   "cell_type": "markdown",
   "id": "dd79f83c",
   "metadata": {},
   "source": [
    "## Naive Bayes:"
   ]
  },
  {
   "cell_type": "markdown",
   "id": "54191a82",
   "metadata": {},
   "source": [
    "#### a) fit the Bog of word train dataset"
   ]
  },
  {
   "cell_type": "code",
   "execution_count": 51,
   "id": "a9899d05",
   "metadata": {
    "execution": {
     "iopub.execute_input": "2024-04-24T16:39:43.572883Z",
     "iopub.status.busy": "2024-04-24T16:39:43.572554Z",
     "iopub.status.idle": "2024-04-24T16:39:43.583086Z",
     "shell.execute_reply": "2024-04-24T16:39:43.582355Z",
     "shell.execute_reply.started": "2024-04-24T16:39:43.572856Z"
    }
   },
   "outputs": [],
   "source": [
    "from sklearn.metrics import accuracy_score,confusion_matrix,precision_score,recall_score,f1_score\n"
   ]
  },
  {
   "cell_type": "code",
   "execution_count": 52,
   "id": "f0c24647",
   "metadata": {
    "execution": {
     "iopub.execute_input": "2024-04-24T16:39:43.584308Z",
     "iopub.status.busy": "2024-04-24T16:39:43.584023Z",
     "iopub.status.idle": "2024-04-24T16:39:43.595267Z",
     "shell.execute_reply": "2024-04-24T16:39:43.594337Z",
     "shell.execute_reply.started": "2024-04-24T16:39:43.584284Z"
    }
   },
   "outputs": [],
   "source": [
    "from sklearn.naive_bayes import GaussianNB\n",
    "bow_gnb= GaussianNB()"
   ]
  },
  {
   "cell_type": "code",
   "execution_count": 53,
   "id": "a55b70d6",
   "metadata": {
    "execution": {
     "iopub.execute_input": "2024-04-24T16:39:43.596762Z",
     "iopub.status.busy": "2024-04-24T16:39:43.596448Z",
     "iopub.status.idle": "2024-04-24T16:39:44.344768Z",
     "shell.execute_reply": "2024-04-24T16:39:44.343766Z",
     "shell.execute_reply.started": "2024-04-24T16:39:43.596729Z"
    }
   },
   "outputs": [
    {
     "name": "stdout",
     "output_type": "stream",
     "text": [
      "Precision : 0.5381165919282511\n",
      "Recall : 0.8823529411764706\n",
      "Accuracy : 0.8846899224806202\n",
      "F1 Score : 0.6685236768802229\n",
      "Confusion Matrix :\n",
      " [[793 103]\n",
      " [ 16 120]]\n"
     ]
    }
   ],
   "source": [
    "bow_gnb.fit(X_train_bow,y_train)\n",
    "y_pred_bow=bow_gnb.predict(X_test_bow)\n",
    "print(\"Precision :\",precision_score(y_test,y_pred_bow))\n",
    "print(\"Recall :\",recall_score(y_test,y_pred_bow))\n",
    "print(\"Accuracy :\",accuracy_score(y_test,y_pred_bow))\n",
    "print(\"F1 Score :\",f1_score(y_test,y_pred_bow))\n",
    "print(\"Confusion Matrix :\\n\",confusion_matrix(y_test,y_pred_bow))\n"
   ]
  },
  {
   "cell_type": "code",
   "execution_count": 54,
   "id": "e4ec7d20",
   "metadata": {
    "execution": {
     "iopub.execute_input": "2024-04-24T16:39:44.346497Z",
     "iopub.status.busy": "2024-04-24T16:39:44.346119Z",
     "iopub.status.idle": "2024-04-24T16:39:44.351571Z",
     "shell.execute_reply": "2024-04-24T16:39:44.350519Z",
     "shell.execute_reply.started": "2024-04-24T16:39:44.346471Z"
    }
   },
   "outputs": [],
   "source": [
    "with open('BOW_gnb.pkl', 'wb') as file:\n",
    "    pickle.dump(bow_gnb, file)"
   ]
  },
  {
   "cell_type": "markdown",
   "id": "3480f2b1",
   "metadata": {},
   "source": [
    "#### b) fit the Bog of n-grams words train dataset"
   ]
  },
  {
   "cell_type": "code",
   "execution_count": 55,
   "id": "7358e840",
   "metadata": {
    "execution": {
     "iopub.execute_input": "2024-04-24T16:39:44.353359Z",
     "iopub.status.busy": "2024-04-24T16:39:44.353048Z",
     "iopub.status.idle": "2024-04-24T16:39:44.361801Z",
     "shell.execute_reply": "2024-04-24T16:39:44.360571Z",
     "shell.execute_reply.started": "2024-04-24T16:39:44.353334Z"
    }
   },
   "outputs": [],
   "source": [
    "bown_gnb= GaussianNB()"
   ]
  },
  {
   "cell_type": "code",
   "execution_count": 56,
   "id": "c2f4756c",
   "metadata": {
    "execution": {
     "iopub.execute_input": "2024-04-24T16:39:44.364621Z",
     "iopub.status.busy": "2024-04-24T16:39:44.363490Z",
     "iopub.status.idle": "2024-04-24T16:39:47.521846Z",
     "shell.execute_reply": "2024-04-24T16:39:47.520825Z",
     "shell.execute_reply.started": "2024-04-24T16:39:44.364591Z"
    }
   },
   "outputs": [
    {
     "name": "stdout",
     "output_type": "stream",
     "text": [
      "Precision : 0.625\n",
      "Recall : 0.9191176470588235\n",
      "Accuracy : 0.9166666666666666\n",
      "F1 Score : 0.7440476190476192\n",
      "Confusion Matrix :\n",
      " [[821  75]\n",
      " [ 11 125]]\n"
     ]
    }
   ],
   "source": [
    "bown_gnb.fit(X_train_bown,y_train)\n",
    "y_pred_bown=bown_gnb.predict(X_test_bown)\n",
    "print(\"Precision :\",precision_score(y_test,y_pred_bown))\n",
    "print(\"Recall :\",recall_score(y_test,y_pred_bown))\n",
    "print(\"Accuracy :\",accuracy_score(y_test,y_pred_bown))\n",
    "print(\"F1 Score :\",f1_score(y_test,y_pred_bown))\n",
    "print(\"Confusion Matrix :\\n\",confusion_matrix(y_test,y_pred_bown))"
   ]
  },
  {
   "cell_type": "code",
   "execution_count": 57,
   "id": "999c489b",
   "metadata": {
    "execution": {
     "iopub.execute_input": "2024-04-24T16:39:47.523494Z",
     "iopub.status.busy": "2024-04-24T16:39:47.523181Z",
     "iopub.status.idle": "2024-04-24T16:39:47.529485Z",
     "shell.execute_reply": "2024-04-24T16:39:47.528435Z",
     "shell.execute_reply.started": "2024-04-24T16:39:47.523468Z"
    }
   },
   "outputs": [],
   "source": [
    "with open('BOWN_gnb.pkl', 'wb') as file:\n",
    "    pickle.dump(bown_gnb, file)"
   ]
  },
  {
   "cell_type": "markdown",
   "id": "8ee90410",
   "metadata": {},
   "source": [
    "#### c) fit the TF-IDF train dataset"
   ]
  },
  {
   "cell_type": "code",
   "execution_count": 58,
   "id": "cda391ac",
   "metadata": {
    "execution": {
     "iopub.execute_input": "2024-04-24T16:39:47.531298Z",
     "iopub.status.busy": "2024-04-24T16:39:47.530850Z",
     "iopub.status.idle": "2024-04-24T16:39:47.537627Z",
     "shell.execute_reply": "2024-04-24T16:39:47.536582Z",
     "shell.execute_reply.started": "2024-04-24T16:39:47.531269Z"
    }
   },
   "outputs": [],
   "source": [
    "tfidf_gnb= GaussianNB()"
   ]
  },
  {
   "cell_type": "code",
   "execution_count": 59,
   "id": "8a913203",
   "metadata": {
    "execution": {
     "iopub.execute_input": "2024-04-24T16:39:47.539498Z",
     "iopub.status.busy": "2024-04-24T16:39:47.539175Z",
     "iopub.status.idle": "2024-04-24T16:39:48.140887Z",
     "shell.execute_reply": "2024-04-24T16:39:48.139800Z",
     "shell.execute_reply.started": "2024-04-24T16:39:47.539474Z"
    }
   },
   "outputs": [
    {
     "name": "stdout",
     "output_type": "stream",
     "text": [
      "Precision : 0.5302325581395348\n",
      "Recall : 0.8382352941176471\n",
      "Accuracy : 0.8808139534883721\n",
      "F1 Score : 0.6495726495726495\n",
      "Confusion Matrix :\n",
      " [[795 101]\n",
      " [ 22 114]]\n"
     ]
    }
   ],
   "source": [
    "tfidf_gnb.fit(X_train_tfidf,y_train)\n",
    "y_pred_tfidf=tfidf_gnb.predict(X_test_tfidf)\n",
    "print(\"Precision :\",precision_score(y_test,y_pred_tfidf))\n",
    "print(\"Recall :\",recall_score(y_test,y_pred_tfidf))\n",
    "print(\"Accuracy :\",accuracy_score(y_test,y_pred_tfidf))\n",
    "print(\"F1 Score :\",f1_score(y_test,y_pred_tfidf))\n",
    "print(\"Confusion Matrix :\\n\",confusion_matrix(y_test,y_pred_tfidf))"
   ]
  },
  {
   "cell_type": "code",
   "execution_count": 60,
   "id": "b3265cae",
   "metadata": {
    "execution": {
     "iopub.execute_input": "2024-04-24T16:39:48.143000Z",
     "iopub.status.busy": "2024-04-24T16:39:48.142450Z",
     "iopub.status.idle": "2024-04-24T16:39:48.148235Z",
     "shell.execute_reply": "2024-04-24T16:39:48.147130Z",
     "shell.execute_reply.started": "2024-04-24T16:39:48.142964Z"
    }
   },
   "outputs": [],
   "source": [
    "with open('tfidf_gnb.pkl', 'wb') as file:\n",
    "    pickle.dump(tfidf_gnb, file)"
   ]
  },
  {
   "cell_type": "markdown",
   "id": "2eb29908",
   "metadata": {},
   "source": [
    "## Random forest:"
   ]
  },
  {
   "cell_type": "code",
   "execution_count": 61,
   "id": "adb50909",
   "metadata": {
    "execution": {
     "iopub.execute_input": "2024-04-24T16:39:48.150403Z",
     "iopub.status.busy": "2024-04-24T16:39:48.150017Z",
     "iopub.status.idle": "2024-04-24T16:39:48.280379Z",
     "shell.execute_reply": "2024-04-24T16:39:48.279603Z",
     "shell.execute_reply.started": "2024-04-24T16:39:48.150370Z"
    }
   },
   "outputs": [],
   "source": [
    "from sklearn.ensemble import RandomForestClassifier\n",
    "RF_bow=RandomForestClassifier()"
   ]
  },
  {
   "cell_type": "code",
   "execution_count": 62,
   "id": "70bc0a5b",
   "metadata": {
    "execution": {
     "iopub.execute_input": "2024-04-24T16:39:48.282125Z",
     "iopub.status.busy": "2024-04-24T16:39:48.281428Z",
     "iopub.status.idle": "2024-04-24T16:40:08.009107Z",
     "shell.execute_reply": "2024-04-24T16:40:08.008357Z",
     "shell.execute_reply.started": "2024-04-24T16:39:48.282096Z"
    }
   },
   "outputs": [
    {
     "name": "stdout",
     "output_type": "stream",
     "text": [
      "Precision : 0.990909090909091\n",
      "Recall : 0.8014705882352942\n",
      "Accuracy : 0.9728682170542635\n",
      "F1 Score : 0.8861788617886179\n",
      "Confusion Matrix :\n",
      " [[895   1]\n",
      " [ 27 109]]\n"
     ]
    }
   ],
   "source": [
    "RF_bow.fit(X_train_bow,y_train)\n",
    "y_pred_bow=RF_bow.predict(X_test_bow)\n",
    "print(\"Precision :\",precision_score(y_test,y_pred_bow))\n",
    "print(\"Recall :\",recall_score(y_test,y_pred_bow))\n",
    "print(\"Accuracy :\",accuracy_score(y_test,y_pred_bow))\n",
    "print(\"F1 Score :\",f1_score(y_test,y_pred_bow))\n",
    "print(\"Confusion Matrix :\\n\",confusion_matrix(y_test,y_pred_bow))"
   ]
  },
  {
   "cell_type": "code",
   "execution_count": 63,
   "id": "284d4fcb",
   "metadata": {
    "execution": {
     "iopub.execute_input": "2024-04-24T16:40:08.011079Z",
     "iopub.status.busy": "2024-04-24T16:40:08.010175Z",
     "iopub.status.idle": "2024-04-24T16:40:08.030870Z",
     "shell.execute_reply": "2024-04-24T16:40:08.029764Z",
     "shell.execute_reply.started": "2024-04-24T16:40:08.011049Z"
    }
   },
   "outputs": [],
   "source": [
    "with open('BOW_RF.pkl', 'wb') as file:\n",
    "    pickle.dump(RF_bow, file)"
   ]
  },
  {
   "cell_type": "code",
   "execution_count": 64,
   "id": "21ecc657",
   "metadata": {
    "execution": {
     "iopub.execute_input": "2024-04-24T16:40:08.032948Z",
     "iopub.status.busy": "2024-04-24T16:40:08.032220Z",
     "iopub.status.idle": "2024-04-24T16:40:08.037055Z",
     "shell.execute_reply": "2024-04-24T16:40:08.036051Z",
     "shell.execute_reply.started": "2024-04-24T16:40:08.032920Z"
    }
   },
   "outputs": [],
   "source": [
    "RF_bown=RandomForestClassifier()"
   ]
  },
  {
   "cell_type": "code",
   "execution_count": 65,
   "id": "fb180c75",
   "metadata": {
    "execution": {
     "iopub.execute_input": "2024-04-24T16:40:08.038654Z",
     "iopub.status.busy": "2024-04-24T16:40:08.038340Z",
     "iopub.status.idle": "2024-04-24T16:41:17.584011Z",
     "shell.execute_reply": "2024-04-24T16:41:17.582805Z",
     "shell.execute_reply.started": "2024-04-24T16:40:08.038628Z"
    }
   },
   "outputs": [
    {
     "name": "stdout",
     "output_type": "stream",
     "text": [
      "Precision : 0.9901960784313726\n",
      "Recall : 0.7426470588235294\n",
      "Accuracy : 0.9651162790697675\n",
      "F1 Score : 0.8487394957983194\n",
      "Confusion Matrix :\n",
      " [[895   1]\n",
      " [ 35 101]]\n"
     ]
    }
   ],
   "source": [
    "RF_bown.fit(X_train_bown,y_train)\n",
    "y_pred_bown=RF_bown.predict(X_test_bown)\n",
    "print(\"Precision :\",precision_score(y_test,y_pred_bown))\n",
    "print(\"Recall :\",recall_score(y_test,y_pred_bown))\n",
    "print(\"Accuracy :\",accuracy_score(y_test,y_pred_bown))\n",
    "print(\"F1 Score :\",f1_score(y_test,y_pred_bown))\n",
    "print(\"Confusion Matrix :\\n\",confusion_matrix(y_test,y_pred_bown))"
   ]
  },
  {
   "cell_type": "code",
   "execution_count": 66,
   "id": "bcfbe6be",
   "metadata": {
    "execution": {
     "iopub.execute_input": "2024-04-24T16:41:17.586056Z",
     "iopub.status.busy": "2024-04-24T16:41:17.585679Z",
     "iopub.status.idle": "2024-04-24T16:41:17.608028Z",
     "shell.execute_reply": "2024-04-24T16:41:17.606662Z",
     "shell.execute_reply.started": "2024-04-24T16:41:17.586026Z"
    }
   },
   "outputs": [],
   "source": [
    "with open('BOWN_RF.pkl', 'wb') as file:\n",
    "    pickle.dump(RF_bown, file)"
   ]
  },
  {
   "cell_type": "code",
   "execution_count": 67,
   "id": "896e181b",
   "metadata": {
    "execution": {
     "iopub.execute_input": "2024-04-24T16:41:17.610137Z",
     "iopub.status.busy": "2024-04-24T16:41:17.609720Z",
     "iopub.status.idle": "2024-04-24T16:41:17.615482Z",
     "shell.execute_reply": "2024-04-24T16:41:17.614314Z",
     "shell.execute_reply.started": "2024-04-24T16:41:17.610106Z"
    }
   },
   "outputs": [],
   "source": [
    "RF_tfidf=RandomForestClassifier()"
   ]
  },
  {
   "cell_type": "code",
   "execution_count": 68,
   "id": "ba2ad63a",
   "metadata": {
    "execution": {
     "iopub.execute_input": "2024-04-24T16:41:17.617639Z",
     "iopub.status.busy": "2024-04-24T16:41:17.616793Z",
     "iopub.status.idle": "2024-04-24T16:41:40.707613Z",
     "shell.execute_reply": "2024-04-24T16:41:40.706311Z",
     "shell.execute_reply.started": "2024-04-24T16:41:17.617518Z"
    }
   },
   "outputs": [
    {
     "name": "stdout",
     "output_type": "stream",
     "text": [
      "Precision : 0.9911504424778761\n",
      "Recall : 0.8235294117647058\n",
      "Accuracy : 0.9757751937984496\n",
      "F1 Score : 0.8995983935742972\n",
      "Confusion Matrix :\n",
      " [[895   1]\n",
      " [ 24 112]]\n"
     ]
    }
   ],
   "source": [
    "RF_tfidf.fit(X_train_tfidf,y_train)\n",
    "y_pred_tfidf=RF_tfidf.predict(X_test_tfidf)\n",
    "print(\"Precision :\",precision_score(y_test,y_pred_tfidf))\n",
    "print(\"Recall :\",recall_score(y_test,y_pred_tfidf))\n",
    "print(\"Accuracy :\",accuracy_score(y_test,y_pred_tfidf))\n",
    "print(\"F1 Score :\",f1_score(y_test,y_pred_tfidf))\n",
    "print(\"Confusion Matrix :\\n\",confusion_matrix(y_test,y_pred_tfidf))"
   ]
  },
  {
   "cell_type": "code",
   "execution_count": 69,
   "id": "33aa262c",
   "metadata": {
    "execution": {
     "iopub.execute_input": "2024-04-24T16:41:40.709610Z",
     "iopub.status.busy": "2024-04-24T16:41:40.709275Z",
     "iopub.status.idle": "2024-04-24T16:41:40.726275Z",
     "shell.execute_reply": "2024-04-24T16:41:40.724282Z",
     "shell.execute_reply.started": "2024-04-24T16:41:40.709584Z"
    }
   },
   "outputs": [],
   "source": [
    "with open('tfidf_RF.pkl', 'wb') as file:\n",
    "    pickle.dump(RF_tfidf, file)"
   ]
  },
  {
   "cell_type": "markdown",
   "id": "84a9779e",
   "metadata": {},
   "source": [
    "## Logistic Regression"
   ]
  },
  {
   "cell_type": "code",
   "execution_count": 70,
   "id": "3ec9f305",
   "metadata": {
    "execution": {
     "iopub.execute_input": "2024-04-24T16:41:40.729236Z",
     "iopub.status.busy": "2024-04-24T16:41:40.728436Z",
     "iopub.status.idle": "2024-04-24T16:41:40.733874Z",
     "shell.execute_reply": "2024-04-24T16:41:40.732772Z",
     "shell.execute_reply.started": "2024-04-24T16:41:40.729200Z"
    }
   },
   "outputs": [],
   "source": [
    "from sklearn.linear_model import LogisticRegression\n",
    "LR_bow=LogisticRegression()"
   ]
  },
  {
   "cell_type": "code",
   "execution_count": 71,
   "id": "ec6400f8",
   "metadata": {
    "execution": {
     "iopub.execute_input": "2024-04-24T16:41:40.735447Z",
     "iopub.status.busy": "2024-04-24T16:41:40.735074Z",
     "iopub.status.idle": "2024-04-24T16:41:41.788027Z",
     "shell.execute_reply": "2024-04-24T16:41:41.786765Z",
     "shell.execute_reply.started": "2024-04-24T16:41:40.735419Z"
    }
   },
   "outputs": [
    {
     "name": "stdout",
     "output_type": "stream",
     "text": [
      "Precision : 0.9752066115702479\n",
      "Recall : 0.8676470588235294\n",
      "Accuracy : 0.9796511627906976\n",
      "F1 Score : 0.9182879377431907\n",
      "Confusion Matrix :\n",
      " [[893   3]\n",
      " [ 18 118]]\n"
     ]
    }
   ],
   "source": [
    "LR_bow.fit(X_train_bow,y_train)\n",
    "y_pred_bow=LR_bow.predict(X_test_bow)\n",
    "print(\"Precision :\",precision_score(y_test,y_pred_bow))\n",
    "print(\"Recall :\",recall_score(y_test,y_pred_bow))\n",
    "print(\"Accuracy :\",accuracy_score(y_test,y_pred_bow))\n",
    "print(\"F1 Score :\",f1_score(y_test,y_pred_bow))\n",
    "print(\"Confusion Matrix :\\n\",confusion_matrix(y_test,y_pred_bow))"
   ]
  },
  {
   "cell_type": "code",
   "execution_count": 72,
   "id": "33a65882",
   "metadata": {
    "execution": {
     "iopub.execute_input": "2024-04-24T16:41:41.791050Z",
     "iopub.status.busy": "2024-04-24T16:41:41.790086Z",
     "iopub.status.idle": "2024-04-24T16:41:41.800260Z",
     "shell.execute_reply": "2024-04-24T16:41:41.798575Z",
     "shell.execute_reply.started": "2024-04-24T16:41:41.791003Z"
    }
   },
   "outputs": [],
   "source": [
    "with open('BOW_LR.pkl', 'wb') as file:\n",
    "    pickle.dump(LR_bow, file)"
   ]
  },
  {
   "cell_type": "code",
   "execution_count": 73,
   "id": "ae05f12f",
   "metadata": {
    "execution": {
     "iopub.execute_input": "2024-04-24T16:41:41.803717Z",
     "iopub.status.busy": "2024-04-24T16:41:41.802566Z",
     "iopub.status.idle": "2024-04-24T16:41:41.809234Z",
     "shell.execute_reply": "2024-04-24T16:41:41.807948Z",
     "shell.execute_reply.started": "2024-04-24T16:41:41.803647Z"
    }
   },
   "outputs": [],
   "source": [
    "LR_bown=LogisticRegression()"
   ]
  },
  {
   "cell_type": "code",
   "execution_count": 74,
   "id": "d5b5e745",
   "metadata": {
    "execution": {
     "iopub.execute_input": "2024-04-24T16:41:41.812636Z",
     "iopub.status.busy": "2024-04-24T16:41:41.811600Z",
     "iopub.status.idle": "2024-04-24T16:41:48.523287Z",
     "shell.execute_reply": "2024-04-24T16:41:48.522018Z",
     "shell.execute_reply.started": "2024-04-24T16:41:41.812586Z"
    }
   },
   "outputs": [
    {
     "name": "stdout",
     "output_type": "stream",
     "text": [
      "Precision : 0.9913793103448276\n",
      "Recall : 0.8455882352941176\n",
      "Accuracy : 0.9786821705426356\n",
      "F1 Score : 0.9126984126984128\n",
      "Confusion Matrix :\n",
      " [[895   1]\n",
      " [ 21 115]]\n"
     ]
    }
   ],
   "source": [
    "LR_bown.fit(X_train_bown,y_train)\n",
    "y_pred_bown=LR_bown.predict(X_test_bown)\n",
    "print(\"Precision :\",precision_score(y_test,y_pred_bown))\n",
    "print(\"Recall :\",recall_score(y_test,y_pred_bown))\n",
    "print(\"Accuracy :\",accuracy_score(y_test,y_pred_bown))\n",
    "print(\"F1 Score :\",f1_score(y_test,y_pred_bown))\n",
    "print(\"Confusion Matrix :\\n\",confusion_matrix(y_test,y_pred_bown))"
   ]
  },
  {
   "cell_type": "code",
   "execution_count": 75,
   "id": "3ac35c1b",
   "metadata": {
    "execution": {
     "iopub.execute_input": "2024-04-24T16:41:48.533198Z",
     "iopub.status.busy": "2024-04-24T16:41:48.529753Z",
     "iopub.status.idle": "2024-04-24T16:41:48.542406Z",
     "shell.execute_reply": "2024-04-24T16:41:48.541039Z",
     "shell.execute_reply.started": "2024-04-24T16:41:48.533137Z"
    }
   },
   "outputs": [],
   "source": [
    "with open('BOWN_LR.pkl', 'wb') as file:\n",
    "    pickle.dump(LR_bown, file)"
   ]
  },
  {
   "cell_type": "code",
   "execution_count": 76,
   "id": "51801219",
   "metadata": {
    "execution": {
     "iopub.execute_input": "2024-04-24T16:41:48.553408Z",
     "iopub.status.busy": "2024-04-24T16:41:48.549497Z",
     "iopub.status.idle": "2024-04-24T16:41:48.561618Z",
     "shell.execute_reply": "2024-04-24T16:41:48.560282Z",
     "shell.execute_reply.started": "2024-04-24T16:41:48.553342Z"
    }
   },
   "outputs": [],
   "source": [
    "LR_tfidf=LogisticRegression()"
   ]
  },
  {
   "cell_type": "code",
   "execution_count": 77,
   "id": "f66a46ef",
   "metadata": {
    "execution": {
     "iopub.execute_input": "2024-04-24T16:41:48.569881Z",
     "iopub.status.busy": "2024-04-24T16:41:48.568195Z",
     "iopub.status.idle": "2024-04-24T16:41:54.937995Z",
     "shell.execute_reply": "2024-04-24T16:41:54.936759Z",
     "shell.execute_reply.started": "2024-04-24T16:41:48.569819Z"
    }
   },
   "outputs": [
    {
     "name": "stdout",
     "output_type": "stream",
     "text": [
      "Precision : 0.9913793103448276\n",
      "Recall : 0.8455882352941176\n",
      "Accuracy : 0.9786821705426356\n",
      "F1 Score : 0.9126984126984128\n",
      "Confusion Matrix :\n",
      " [[895   1]\n",
      " [ 21 115]]\n"
     ]
    }
   ],
   "source": [
    "LR_tfidf.fit(X_train_bown,y_train)\n",
    "y_pred_tfidf=LR_tfidf.predict(X_test_bown)\n",
    "print(\"Precision :\",precision_score(y_test,y_pred_tfidf))\n",
    "print(\"Recall :\",recall_score(y_test,y_pred_tfidf))\n",
    "print(\"Accuracy :\",accuracy_score(y_test,y_pred_tfidf))\n",
    "print(\"F1 Score :\",f1_score(y_test,y_pred_tfidf))\n",
    "print(\"Confusion Matrix :\\n\",confusion_matrix(y_test,y_pred_tfidf))"
   ]
  },
  {
   "cell_type": "code",
   "execution_count": 78,
   "id": "21ce5b44",
   "metadata": {
    "execution": {
     "iopub.execute_input": "2024-04-24T16:41:54.940437Z",
     "iopub.status.busy": "2024-04-24T16:41:54.939586Z",
     "iopub.status.idle": "2024-04-24T16:41:54.948878Z",
     "shell.execute_reply": "2024-04-24T16:41:54.947076Z",
     "shell.execute_reply.started": "2024-04-24T16:41:54.940391Z"
    }
   },
   "outputs": [],
   "source": [
    "with open('tfidf_LR.pkl', 'wb') as file:\n",
    "    pickle.dump(LR_tfidf, file)"
   ]
  },
  {
   "cell_type": "markdown",
   "id": "5d176bee",
   "metadata": {},
   "source": [
    "## Decision Tree Classifier:"
   ]
  },
  {
   "cell_type": "code",
   "execution_count": 79,
   "id": "30a11ad3",
   "metadata": {
    "execution": {
     "iopub.execute_input": "2024-04-24T16:41:54.952134Z",
     "iopub.status.busy": "2024-04-24T16:41:54.950800Z",
     "iopub.status.idle": "2024-04-24T16:41:54.960446Z",
     "shell.execute_reply": "2024-04-24T16:41:54.958769Z",
     "shell.execute_reply.started": "2024-04-24T16:41:54.952087Z"
    }
   },
   "outputs": [],
   "source": [
    "from sklearn.tree import DecisionTreeClassifier\n",
    "DT_bow=DecisionTreeClassifier()"
   ]
  },
  {
   "cell_type": "code",
   "execution_count": 80,
   "id": "1cb6fc71",
   "metadata": {
    "execution": {
     "iopub.execute_input": "2024-04-24T16:41:54.963394Z",
     "iopub.status.busy": "2024-04-24T16:41:54.962208Z",
     "iopub.status.idle": "2024-04-24T16:42:10.937746Z",
     "shell.execute_reply": "2024-04-24T16:42:10.936541Z",
     "shell.execute_reply.started": "2024-04-24T16:41:54.963340Z"
    }
   },
   "outputs": [
    {
     "name": "stdout",
     "output_type": "stream",
     "text": [
      "Precision : 0.8837209302325582\n",
      "Recall : 0.8382352941176471\n",
      "Accuracy : 0.9641472868217055\n",
      "F1 Score : 0.8603773584905661\n",
      "Confusion Matrix :\n",
      " [[881  15]\n",
      " [ 22 114]]\n"
     ]
    }
   ],
   "source": [
    "DT_bow.fit(X_train_bow,y_train)\n",
    "y_pred_bow=DT_bow.predict(X_test_bow)\n",
    "print(\"Precision :\",precision_score(y_test,y_pred_bow))\n",
    "print(\"Recall :\",recall_score(y_test,y_pred_bow))\n",
    "print(\"Accuracy :\",accuracy_score(y_test,y_pred_bow))\n",
    "print(\"F1 Score :\",f1_score(y_test,y_pred_bow))\n",
    "print(\"Confusion Matrix :\\n\",confusion_matrix(y_test,y_pred_bow))"
   ]
  },
  {
   "cell_type": "code",
   "execution_count": 81,
   "id": "0591f08b",
   "metadata": {
    "execution": {
     "iopub.execute_input": "2024-04-24T16:42:10.939284Z",
     "iopub.status.busy": "2024-04-24T16:42:10.938953Z",
     "iopub.status.idle": "2024-04-24T16:42:10.944827Z",
     "shell.execute_reply": "2024-04-24T16:42:10.943664Z",
     "shell.execute_reply.started": "2024-04-24T16:42:10.939257Z"
    }
   },
   "outputs": [],
   "source": [
    "with open('BOW_DT.pkl', 'wb') as file:\n",
    "    pickle.dump(DT_bow, file)"
   ]
  },
  {
   "cell_type": "code",
   "execution_count": 82,
   "id": "58cf0292",
   "metadata": {
    "execution": {
     "iopub.execute_input": "2024-04-24T16:42:10.947045Z",
     "iopub.status.busy": "2024-04-24T16:42:10.946453Z",
     "iopub.status.idle": "2024-04-24T16:42:10.956840Z",
     "shell.execute_reply": "2024-04-24T16:42:10.955907Z",
     "shell.execute_reply.started": "2024-04-24T16:42:10.947014Z"
    }
   },
   "outputs": [],
   "source": [
    "DT_bown=DecisionTreeClassifier()"
   ]
  },
  {
   "cell_type": "code",
   "execution_count": 83,
   "id": "a2da6899",
   "metadata": {
    "execution": {
     "iopub.execute_input": "2024-04-24T16:42:10.958796Z",
     "iopub.status.busy": "2024-04-24T16:42:10.958156Z",
     "iopub.status.idle": "2024-04-24T16:43:19.835749Z",
     "shell.execute_reply": "2024-04-24T16:43:19.834621Z",
     "shell.execute_reply.started": "2024-04-24T16:42:10.958763Z"
    }
   },
   "outputs": [
    {
     "name": "stdout",
     "output_type": "stream",
     "text": [
      "Precision : 0.896\n",
      "Recall : 0.8235294117647058\n",
      "Accuracy : 0.9641472868217055\n",
      "F1 Score : 0.8582375478927202\n",
      "Confusion Matrix :\n",
      " [[883  13]\n",
      " [ 24 112]]\n"
     ]
    }
   ],
   "source": [
    "DT_bown.fit(X_train_bown,y_train)\n",
    "y_pred_bown=DT_bown.predict(X_test_bown)\n",
    "print(\"Precision :\",precision_score(y_test,y_pred_bown))\n",
    "print(\"Recall :\",recall_score(y_test,y_pred_bown))\n",
    "print(\"Accuracy :\",accuracy_score(y_test,y_pred_bown))\n",
    "print(\"F1 Score :\",f1_score(y_test,y_pred_bown))\n",
    "print(\"Confusion Matrix :\\n\",confusion_matrix(y_test,y_pred_bown))"
   ]
  },
  {
   "cell_type": "code",
   "execution_count": 84,
   "id": "e59842c5",
   "metadata": {
    "execution": {
     "iopub.execute_input": "2024-04-24T16:43:19.837401Z",
     "iopub.status.busy": "2024-04-24T16:43:19.837060Z",
     "iopub.status.idle": "2024-04-24T16:43:19.842335Z",
     "shell.execute_reply": "2024-04-24T16:43:19.841565Z",
     "shell.execute_reply.started": "2024-04-24T16:43:19.837373Z"
    }
   },
   "outputs": [],
   "source": [
    "with open('BOWN_DT.pkl', 'wb') as file:\n",
    "    pickle.dump(DT_bown, file)"
   ]
  },
  {
   "cell_type": "code",
   "execution_count": 85,
   "id": "a41ee902",
   "metadata": {
    "execution": {
     "iopub.execute_input": "2024-04-24T16:43:19.844409Z",
     "iopub.status.busy": "2024-04-24T16:43:19.843455Z",
     "iopub.status.idle": "2024-04-24T16:43:19.854403Z",
     "shell.execute_reply": "2024-04-24T16:43:19.853527Z",
     "shell.execute_reply.started": "2024-04-24T16:43:19.844372Z"
    }
   },
   "outputs": [],
   "source": [
    "DT_tfidf=DecisionTreeClassifier()"
   ]
  },
  {
   "cell_type": "code",
   "execution_count": 86,
   "id": "4d0187b3",
   "metadata": {
    "execution": {
     "iopub.execute_input": "2024-04-24T16:43:19.855901Z",
     "iopub.status.busy": "2024-04-24T16:43:19.855328Z",
     "iopub.status.idle": "2024-04-24T16:43:35.417469Z",
     "shell.execute_reply": "2024-04-24T16:43:35.416586Z",
     "shell.execute_reply.started": "2024-04-24T16:43:19.855873Z"
    }
   },
   "outputs": [
    {
     "name": "stdout",
     "output_type": "stream",
     "text": [
      "Precision : 0.835820895522388\n",
      "Recall : 0.8235294117647058\n",
      "Accuracy : 0.9554263565891473\n",
      "F1 Score : 0.8296296296296296\n",
      "Confusion Matrix :\n",
      " [[874  22]\n",
      " [ 24 112]]\n"
     ]
    }
   ],
   "source": [
    "DT_tfidf.fit(X_train_tfidf,y_train)\n",
    "y_pred_tfidf=DT_tfidf.predict(X_test_tfidf)\n",
    "print(\"Precision :\",precision_score(y_test,y_pred_tfidf))\n",
    "print(\"Recall :\",recall_score(y_test,y_pred_tfidf))\n",
    "print(\"Accuracy :\",accuracy_score(y_test,y_pred_tfidf))\n",
    "print(\"F1 Score :\",f1_score(y_test,y_pred_tfidf))\n",
    "print(\"Confusion Matrix :\\n\",confusion_matrix(y_test,y_pred_tfidf))"
   ]
  },
  {
   "cell_type": "code",
   "execution_count": 87,
   "id": "56f71e4b",
   "metadata": {
    "execution": {
     "iopub.execute_input": "2024-04-24T16:43:35.418790Z",
     "iopub.status.busy": "2024-04-24T16:43:35.418467Z",
     "iopub.status.idle": "2024-04-24T16:43:35.423738Z",
     "shell.execute_reply": "2024-04-24T16:43:35.422737Z",
     "shell.execute_reply.started": "2024-04-24T16:43:35.418764Z"
    }
   },
   "outputs": [],
   "source": [
    "with open('tfidf_DT.pkl', 'wb') as file:\n",
    "    pickle.dump(DT_tfidf, file)"
   ]
  },
  {
   "cell_type": "markdown",
   "id": "4819a4f7",
   "metadata": {},
   "source": [
    "## Support Vector Machine"
   ]
  },
  {
   "cell_type": "code",
   "execution_count": 88,
   "id": "f030edd5",
   "metadata": {
    "execution": {
     "iopub.execute_input": "2024-04-24T16:43:35.425349Z",
     "iopub.status.busy": "2024-04-24T16:43:35.425032Z",
     "iopub.status.idle": "2024-04-24T16:43:35.435570Z",
     "shell.execute_reply": "2024-04-24T16:43:35.434755Z",
     "shell.execute_reply.started": "2024-04-24T16:43:35.425323Z"
    }
   },
   "outputs": [],
   "source": [
    "from sklearn.svm import SVC"
   ]
  },
  {
   "cell_type": "code",
   "execution_count": 89,
   "id": "f3053045",
   "metadata": {
    "execution": {
     "iopub.execute_input": "2024-04-24T16:43:35.437614Z",
     "iopub.status.busy": "2024-04-24T16:43:35.436915Z",
     "iopub.status.idle": "2024-04-24T16:43:35.446945Z",
     "shell.execute_reply": "2024-04-24T16:43:35.446221Z",
     "shell.execute_reply.started": "2024-04-24T16:43:35.437580Z"
    }
   },
   "outputs": [],
   "source": [
    "svm_bow=SVC()"
   ]
  },
  {
   "cell_type": "code",
   "execution_count": 90,
   "id": "917158b6",
   "metadata": {
    "execution": {
     "iopub.execute_input": "2024-04-24T16:43:35.448908Z",
     "iopub.status.busy": "2024-04-24T16:43:35.448297Z",
     "iopub.status.idle": "2024-04-24T16:44:18.864428Z",
     "shell.execute_reply": "2024-04-24T16:44:18.863410Z",
     "shell.execute_reply.started": "2024-04-24T16:43:35.448873Z"
    }
   },
   "outputs": [
    {
     "name": "stdout",
     "output_type": "stream",
     "text": [
      "Precision : 0.9745762711864406\n",
      "Recall : 0.8455882352941176\n",
      "Accuracy : 0.9767441860465116\n",
      "F1 Score : 0.905511811023622\n",
      "Confusion Matrix :\n",
      " [[893   3]\n",
      " [ 21 115]]\n"
     ]
    }
   ],
   "source": [
    "svm_bow.fit(X_train_bow,y_train)\n",
    "y_pred_bow=svm_bow.predict(X_test_bow)\n",
    "print(\"Precision :\",precision_score(y_test,y_pred_bow))\n",
    "print(\"Recall :\",recall_score(y_test,y_pred_bow))\n",
    "print(\"Accuracy :\",accuracy_score(y_test,y_pred_bow))\n",
    "print(\"F1 Score :\",f1_score(y_test,y_pred_bow))\n",
    "print(\"Confusion Matrix :\\n\",confusion_matrix(y_test,y_pred_bow))"
   ]
  },
  {
   "cell_type": "code",
   "execution_count": 91,
   "id": "a3dc4b11",
   "metadata": {
    "execution": {
     "iopub.execute_input": "2024-04-24T16:44:18.866049Z",
     "iopub.status.busy": "2024-04-24T16:44:18.865757Z",
     "iopub.status.idle": "2024-04-24T16:44:19.013430Z",
     "shell.execute_reply": "2024-04-24T16:44:19.012197Z",
     "shell.execute_reply.started": "2024-04-24T16:44:18.866026Z"
    }
   },
   "outputs": [],
   "source": [
    "with open('BOW_SVM.pkl', 'wb') as file:\n",
    "    pickle.dump(svm_bow, file)"
   ]
  },
  {
   "cell_type": "code",
   "execution_count": 92,
   "id": "c4815af0",
   "metadata": {
    "execution": {
     "iopub.execute_input": "2024-04-24T16:44:19.015869Z",
     "iopub.status.busy": "2024-04-24T16:44:19.015392Z",
     "iopub.status.idle": "2024-04-24T16:44:19.021051Z",
     "shell.execute_reply": "2024-04-24T16:44:19.019992Z",
     "shell.execute_reply.started": "2024-04-24T16:44:19.015832Z"
    }
   },
   "outputs": [],
   "source": [
    "svm_bown=SVC()"
   ]
  },
  {
   "cell_type": "code",
   "execution_count": 93,
   "id": "c7bca266",
   "metadata": {
    "execution": {
     "iopub.execute_input": "2024-04-24T16:44:19.023385Z",
     "iopub.status.busy": "2024-04-24T16:44:19.022795Z",
     "iopub.status.idle": "2024-04-24T16:47:48.509579Z",
     "shell.execute_reply": "2024-04-24T16:47:48.506101Z",
     "shell.execute_reply.started": "2024-04-24T16:44:19.023353Z"
    }
   },
   "outputs": [
    {
     "name": "stdout",
     "output_type": "stream",
     "text": [
      "Precision : 0.9826086956521739\n",
      "Recall : 0.8308823529411765\n",
      "Accuracy : 0.9757751937984496\n",
      "F1 Score : 0.900398406374502\n",
      "Confusion Matrix :\n",
      " [[894   2]\n",
      " [ 23 113]]\n"
     ]
    }
   ],
   "source": [
    "svm_bown.fit(X_train_bown,y_train)\n",
    "y_pred_bown=svm_bown.predict(X_test_bown)\n",
    "print(\"Precision :\",precision_score(y_test,y_pred_bown))\n",
    "print(\"Recall :\",recall_score(y_test,y_pred_bown))\n",
    "print(\"Accuracy :\",accuracy_score(y_test,y_pred_bown))\n",
    "print(\"F1 Score :\",f1_score(y_test,y_pred_bown))\n",
    "print(\"Confusion Matrix :\\n\",confusion_matrix(y_test,y_pred_bown))"
   ]
  },
  {
   "cell_type": "code",
   "execution_count": 94,
   "id": "5f276b1e",
   "metadata": {
    "execution": {
     "iopub.execute_input": "2024-04-24T16:47:48.511752Z",
     "iopub.status.busy": "2024-04-24T16:47:48.511178Z",
     "iopub.status.idle": "2024-04-24T16:47:49.267020Z",
     "shell.execute_reply": "2024-04-24T16:47:49.265974Z",
     "shell.execute_reply.started": "2024-04-24T16:47:48.511711Z"
    }
   },
   "outputs": [],
   "source": [
    "with open('BOWN_SVM.pkl', 'wb') as file:\n",
    "    pickle.dump(svm_bown, file)"
   ]
  },
  {
   "cell_type": "code",
   "execution_count": 95,
   "id": "d7e3a7a6",
   "metadata": {
    "execution": {
     "iopub.execute_input": "2024-04-24T16:47:49.268872Z",
     "iopub.status.busy": "2024-04-24T16:47:49.268405Z",
     "iopub.status.idle": "2024-04-24T16:47:49.274632Z",
     "shell.execute_reply": "2024-04-24T16:47:49.273038Z",
     "shell.execute_reply.started": "2024-04-24T16:47:49.268836Z"
    }
   },
   "outputs": [],
   "source": [
    "svm_tfidf=SVC()"
   ]
  },
  {
   "cell_type": "code",
   "execution_count": 96,
   "id": "ed7ab747",
   "metadata": {
    "execution": {
     "iopub.execute_input": "2024-04-24T16:47:49.276389Z",
     "iopub.status.busy": "2024-04-24T16:47:49.276028Z",
     "iopub.status.idle": "2024-04-24T16:48:35.452221Z",
     "shell.execute_reply": "2024-04-24T16:48:35.451271Z",
     "shell.execute_reply.started": "2024-04-24T16:47:49.276354Z"
    }
   },
   "outputs": [
    {
     "name": "stdout",
     "output_type": "stream",
     "text": [
      "Precision : 0.9745762711864406\n",
      "Recall : 0.8455882352941176\n",
      "Accuracy : 0.9767441860465116\n",
      "F1 Score : 0.905511811023622\n",
      "Confusion Matrix :\n",
      " [[893   3]\n",
      " [ 21 115]]\n"
     ]
    }
   ],
   "source": [
    "svm_tfidf.fit(X_train_tfidf,y_train)\n",
    "y_pred_tfidf=svm_tfidf.predict(X_test_tfidf)\n",
    "print(\"Precision :\",precision_score(y_test,y_pred_tfidf))\n",
    "print(\"Recall :\",recall_score(y_test,y_pred_tfidf))\n",
    "print(\"Accuracy :\",accuracy_score(y_test,y_pred_tfidf))\n",
    "print(\"F1 Score :\",f1_score(y_test,y_pred_tfidf))\n",
    "print(\"Confusion Matrix :\\n\",confusion_matrix(y_test,y_pred_tfidf))"
   ]
  },
  {
   "cell_type": "code",
   "execution_count": 97,
   "id": "124ea2e8",
   "metadata": {
    "execution": {
     "iopub.execute_input": "2024-04-24T16:48:35.454017Z",
     "iopub.status.busy": "2024-04-24T16:48:35.453588Z",
     "iopub.status.idle": "2024-04-24T16:48:35.676210Z",
     "shell.execute_reply": "2024-04-24T16:48:35.675033Z",
     "shell.execute_reply.started": "2024-04-24T16:48:35.453982Z"
    }
   },
   "outputs": [],
   "source": [
    "with open('tfidf_SVM.pkl', 'wb') as file:\n",
    "    pickle.dump(svm_tfidf, file)"
   ]
  },
  {
   "cell_type": "markdown",
   "id": "3fe3a692",
   "metadata": {},
   "source": [
    "## K-nearest Neighbors:"
   ]
  },
  {
   "cell_type": "code",
   "execution_count": 98,
   "id": "5dbc1fbb",
   "metadata": {
    "execution": {
     "iopub.execute_input": "2024-04-24T16:48:35.677757Z",
     "iopub.status.busy": "2024-04-24T16:48:35.677415Z",
     "iopub.status.idle": "2024-04-24T16:48:35.682944Z",
     "shell.execute_reply": "2024-04-24T16:48:35.681957Z",
     "shell.execute_reply.started": "2024-04-24T16:48:35.677725Z"
    }
   },
   "outputs": [],
   "source": [
    "from sklearn.neighbors import KNeighborsClassifier\n",
    "KNN_bow=KNeighborsClassifier()"
   ]
  },
  {
   "cell_type": "code",
   "execution_count": 99,
   "id": "e4b4769f",
   "metadata": {
    "execution": {
     "iopub.execute_input": "2024-04-24T16:48:35.684402Z",
     "iopub.status.busy": "2024-04-24T16:48:35.684111Z",
     "iopub.status.idle": "2024-04-24T16:48:36.907533Z",
     "shell.execute_reply": "2024-04-24T16:48:36.906454Z",
     "shell.execute_reply.started": "2024-04-24T16:48:35.684379Z"
    }
   },
   "outputs": [
    {
     "name": "stdout",
     "output_type": "stream",
     "text": [
      "Precision : 1.0\n",
      "Recall : 0.36764705882352944\n",
      "Accuracy : 0.9166666666666666\n",
      "F1 Score : 0.5376344086021506\n",
      "Confusion Matrix :\n",
      " [[896   0]\n",
      " [ 86  50]]\n"
     ]
    }
   ],
   "source": [
    "KNN_bow.fit(X_train_bow,y_train)\n",
    "y_pred_bow=KNN_bow.predict(X_test_bow)\n",
    "print(\"Precision :\",precision_score(y_test,y_pred_bow))\n",
    "print(\"Recall :\",recall_score(y_test,y_pred_bow))\n",
    "print(\"Accuracy :\",accuracy_score(y_test,y_pred_bow))\n",
    "print(\"F1 Score :\",f1_score(y_test,y_pred_bow))\n",
    "print(\"Confusion Matrix :\\n\",confusion_matrix(y_test,y_pred_bow))"
   ]
  },
  {
   "cell_type": "code",
   "execution_count": 100,
   "id": "78e279a0",
   "metadata": {
    "execution": {
     "iopub.execute_input": "2024-04-24T16:48:36.908918Z",
     "iopub.status.busy": "2024-04-24T16:48:36.908625Z",
     "iopub.status.idle": "2024-04-24T16:48:37.292852Z",
     "shell.execute_reply": "2024-04-24T16:48:37.291968Z",
     "shell.execute_reply.started": "2024-04-24T16:48:36.908894Z"
    }
   },
   "outputs": [],
   "source": [
    "with open('BOW_KNN.pkl', 'wb') as file:\n",
    "    pickle.dump(KNN_bow, file)"
   ]
  },
  {
   "cell_type": "code",
   "execution_count": 101,
   "id": "74a8442f",
   "metadata": {
    "execution": {
     "iopub.execute_input": "2024-04-24T16:48:37.294429Z",
     "iopub.status.busy": "2024-04-24T16:48:37.294101Z",
     "iopub.status.idle": "2024-04-24T16:48:37.299825Z",
     "shell.execute_reply": "2024-04-24T16:48:37.298757Z",
     "shell.execute_reply.started": "2024-04-24T16:48:37.294402Z"
    }
   },
   "outputs": [],
   "source": [
    "KNN_bown=KNeighborsClassifier()"
   ]
  },
  {
   "cell_type": "code",
   "execution_count": 102,
   "id": "de464189",
   "metadata": {
    "execution": {
     "iopub.execute_input": "2024-04-24T16:48:37.302067Z",
     "iopub.status.busy": "2024-04-24T16:48:37.301390Z",
     "iopub.status.idle": "2024-04-24T16:48:42.855308Z",
     "shell.execute_reply": "2024-04-24T16:48:42.854148Z",
     "shell.execute_reply.started": "2024-04-24T16:48:37.302029Z"
    }
   },
   "outputs": [
    {
     "name": "stdout",
     "output_type": "stream",
     "text": [
      "Precision : 1.0\n",
      "Recall : 0.25\n",
      "Accuracy : 0.9011627906976745\n",
      "F1 Score : 0.4\n",
      "Confusion Matrix :\n",
      " [[896   0]\n",
      " [102  34]]\n"
     ]
    }
   ],
   "source": [
    "KNN_bown.fit(X_train_bown,y_train)\n",
    "y_pred_bown=KNN_bown.predict(X_test_bown)\n",
    "print(\"Precision :\",precision_score(y_test,y_pred_bown))\n",
    "print(\"Recall :\",recall_score(y_test,y_pred_bown))\n",
    "print(\"Accuracy :\",accuracy_score(y_test,y_pred_bown))\n",
    "print(\"F1 Score :\",f1_score(y_test,y_pred_bown))\n",
    "print(\"Confusion Matrix :\\n\",confusion_matrix(y_test,y_pred_bown))"
   ]
  },
  {
   "cell_type": "code",
   "execution_count": 103,
   "id": "6f47a3b4",
   "metadata": {
    "execution": {
     "iopub.execute_input": "2024-04-24T16:48:42.856840Z",
     "iopub.status.busy": "2024-04-24T16:48:42.856517Z",
     "iopub.status.idle": "2024-04-24T16:48:44.661518Z",
     "shell.execute_reply": "2024-04-24T16:48:44.660590Z",
     "shell.execute_reply.started": "2024-04-24T16:48:42.856814Z"
    }
   },
   "outputs": [],
   "source": [
    "with open('BOWN_KNN.pkl', 'wb') as file:\n",
    "    pickle.dump(KNN_bown, file)"
   ]
  },
  {
   "cell_type": "code",
   "execution_count": 104,
   "id": "4211830f",
   "metadata": {
    "execution": {
     "iopub.execute_input": "2024-04-24T16:48:44.662950Z",
     "iopub.status.busy": "2024-04-24T16:48:44.662627Z",
     "iopub.status.idle": "2024-04-24T16:48:44.667078Z",
     "shell.execute_reply": "2024-04-24T16:48:44.665907Z",
     "shell.execute_reply.started": "2024-04-24T16:48:44.662925Z"
    }
   },
   "outputs": [],
   "source": [
    "KNN_tfidf=KNeighborsClassifier()"
   ]
  },
  {
   "cell_type": "code",
   "execution_count": 105,
   "id": "6f398ecf",
   "metadata": {
    "execution": {
     "iopub.execute_input": "2024-04-24T16:48:44.668449Z",
     "iopub.status.busy": "2024-04-24T16:48:44.668162Z",
     "iopub.status.idle": "2024-04-24T16:48:45.736922Z",
     "shell.execute_reply": "2024-04-24T16:48:45.735802Z",
     "shell.execute_reply.started": "2024-04-24T16:48:44.668423Z"
    }
   },
   "outputs": [
    {
     "name": "stdout",
     "output_type": "stream",
     "text": [
      "Precision : 1.0\n",
      "Recall : 0.34558823529411764\n",
      "Accuracy : 0.9137596899224806\n",
      "F1 Score : 0.5136612021857923\n",
      "Confusion Matrix :\n",
      " [[896   0]\n",
      " [ 89  47]]\n"
     ]
    }
   ],
   "source": [
    "KNN_tfidf.fit(X_train_tfidf,y_train)\n",
    "y_pred_tfidf=KNN_tfidf.predict(X_test_tfidf)\n",
    "print(\"Precision :\",precision_score(y_test,y_pred_tfidf))\n",
    "print(\"Recall :\",recall_score(y_test,y_pred_tfidf))\n",
    "print(\"Accuracy :\",accuracy_score(y_test,y_pred_tfidf))\n",
    "print(\"F1 Score :\",f1_score(y_test,y_pred_tfidf))\n",
    "print(\"Confusion Matrix :\\n\",confusion_matrix(y_test,y_pred_tfidf))"
   ]
  },
  {
   "cell_type": "code",
   "execution_count": 106,
   "id": "55f88588",
   "metadata": {
    "execution": {
     "iopub.execute_input": "2024-04-24T16:48:45.740424Z",
     "iopub.status.busy": "2024-04-24T16:48:45.738280Z",
     "iopub.status.idle": "2024-04-24T16:48:46.131742Z",
     "shell.execute_reply": "2024-04-24T16:48:46.130772Z",
     "shell.execute_reply.started": "2024-04-24T16:48:45.740392Z"
    }
   },
   "outputs": [],
   "source": [
    "with open('tfidf_KNN.pkl', 'wb') as file:\n",
    "    pickle.dump(KNN_tfidf, file)"
   ]
  },
  {
   "cell_type": "markdown",
   "id": "73344f6c",
   "metadata": {},
   "source": [
    "## test the model by using one Example"
   ]
  },
  {
   "cell_type": "code",
   "execution_count": 107,
   "id": "c45a0dfa",
   "metadata": {
    "execution": {
     "iopub.execute_input": "2024-04-24T16:48:46.133486Z",
     "iopub.status.busy": "2024-04-24T16:48:46.132802Z",
     "iopub.status.idle": "2024-04-24T16:48:46.137666Z",
     "shell.execute_reply": "2024-04-24T16:48:46.136596Z",
     "shell.execute_reply.started": "2024-04-24T16:48:46.133458Z"
    }
   },
   "outputs": [],
   "source": [
    "userinput=\"I'm gonna be home soon and i don't want to talk about this stuff anymore tonight, k? I've cried enough today.\""
   ]
  },
  {
   "cell_type": "code",
   "execution_count": 108,
   "id": "83bcb0f9",
   "metadata": {
    "execution": {
     "iopub.execute_input": "2024-04-24T16:48:46.139464Z",
     "iopub.status.busy": "2024-04-24T16:48:46.139199Z",
     "iopub.status.idle": "2024-04-24T16:48:46.148860Z",
     "shell.execute_reply": "2024-04-24T16:48:46.148014Z",
     "shell.execute_reply.started": "2024-04-24T16:48:46.139441Z"
    }
   },
   "outputs": [],
   "source": [
    "ui=text_cleaning(userinput)"
   ]
  },
  {
   "cell_type": "code",
   "execution_count": 109,
   "id": "063279f3",
   "metadata": {
    "execution": {
     "iopub.execute_input": "2024-04-24T16:48:46.150262Z",
     "iopub.status.busy": "2024-04-24T16:48:46.150002Z",
     "iopub.status.idle": "2024-04-24T16:48:46.159165Z",
     "shell.execute_reply": "2024-04-24T16:48:46.158335Z",
     "shell.execute_reply.started": "2024-04-24T16:48:46.150239Z"
    }
   },
   "outputs": [
    {
     "name": "stdout",
     "output_type": "stream",
     "text": [
      "im gon na home soon dont want talk stuff anymore tonight k ive cried enough today\n"
     ]
    }
   ],
   "source": [
    "print(ui)"
   ]
  },
  {
   "cell_type": "code",
   "execution_count": 110,
   "id": "8365a2bf",
   "metadata": {
    "execution": {
     "iopub.execute_input": "2024-04-24T16:48:46.160994Z",
     "iopub.status.busy": "2024-04-24T16:48:46.160562Z",
     "iopub.status.idle": "2024-04-24T16:48:46.169789Z",
     "shell.execute_reply": "2024-04-24T16:48:46.169082Z",
     "shell.execute_reply.started": "2024-04-24T16:48:46.160961Z"
    }
   },
   "outputs": [
    {
     "name": "stdout",
     "output_type": "stream",
     "text": [
      "['im', 'gon', 'na', 'home', 'soon', 'dont', 'want', 'talk', 'stuff', 'anymore', 'tonight', 'k', 'ive', 'cried', 'enough', 'today']\n"
     ]
    }
   ],
   "source": [
    "dd=cv.vocabulary_\n",
    "df=ui.split()\n",
    "print(df)"
   ]
  },
  {
   "cell_type": "code",
   "execution_count": 111,
   "id": "e7d9c59f",
   "metadata": {
    "execution": {
     "iopub.execute_input": "2024-04-24T16:48:46.171065Z",
     "iopub.status.busy": "2024-04-24T16:48:46.170807Z",
     "iopub.status.idle": "2024-04-24T16:48:46.181452Z",
     "shell.execute_reply": "2024-04-24T16:48:46.180756Z",
     "shell.execute_reply.started": "2024-04-24T16:48:46.171043Z"
    }
   },
   "outputs": [
    {
     "name": "stdout",
     "output_type": "stream",
     "text": [
      "15\n"
     ]
    }
   ],
   "source": [
    "list1=[]\n",
    "for i in df:\n",
    "    if i in dd.keys():\n",
    "        list1.append(i)\n",
    "    else:\n",
    "        pass\n",
    "print(len(list1))"
   ]
  },
  {
   "cell_type": "code",
   "execution_count": 112,
   "id": "53075938",
   "metadata": {
    "execution": {
     "iopub.execute_input": "2024-04-24T16:48:46.182442Z",
     "iopub.status.busy": "2024-04-24T16:48:46.182179Z",
     "iopub.status.idle": "2024-04-24T16:48:46.192540Z",
     "shell.execute_reply": "2024-04-24T16:48:46.191625Z",
     "shell.execute_reply.started": "2024-04-24T16:48:46.182417Z"
    }
   },
   "outputs": [
    {
     "data": {
      "text/plain": [
       "'im gon na home soon dont want talk stuff anymore tonight k ive cried enough today'"
      ]
     },
     "execution_count": 112,
     "metadata": {},
     "output_type": "execute_result"
    }
   ],
   "source": [
    "ui"
   ]
  },
  {
   "cell_type": "code",
   "execution_count": 113,
   "id": "5dd80ac6",
   "metadata": {
    "execution": {
     "iopub.execute_input": "2024-04-24T16:48:46.194213Z",
     "iopub.status.busy": "2024-04-24T16:48:46.193827Z",
     "iopub.status.idle": "2024-04-24T16:48:46.202740Z",
     "shell.execute_reply": "2024-04-24T16:48:46.201893Z",
     "shell.execute_reply.started": "2024-04-24T16:48:46.194142Z"
    },
    "scrolled": true
   },
   "outputs": [
    {
     "name": "stdout",
     "output_type": "stream",
     "text": [
      "(1, 7367)\n",
      "  (0, 270)\t1\n",
      "  (0, 1387)\t1\n",
      "  (0, 1736)\t1\n",
      "  (0, 1935)\t1\n",
      "  (0, 2517)\t1\n",
      "  (0, 2832)\t1\n",
      "  (0, 2988)\t1\n",
      "  (0, 3146)\t1\n",
      "  (0, 4119)\t1\n",
      "  (0, 5802)\t1\n",
      "  (0, 6045)\t1\n",
      "  (0, 6202)\t1\n",
      "  (0, 6458)\t1\n",
      "  (0, 6492)\t1\n",
      "  (0, 6918)\t1\n"
     ]
    }
   ],
   "source": [
    "d=cv.transform([ui])\n",
    "print(d.shape)\n",
    "print(d)"
   ]
  },
  {
   "cell_type": "code",
   "execution_count": 114,
   "id": "0ecbb6e6",
   "metadata": {
    "execution": {
     "iopub.execute_input": "2024-04-24T16:48:46.204139Z",
     "iopub.status.busy": "2024-04-24T16:48:46.203849Z",
     "iopub.status.idle": "2024-04-24T16:48:46.212712Z",
     "shell.execute_reply": "2024-04-24T16:48:46.211971Z",
     "shell.execute_reply.started": "2024-04-24T16:48:46.204108Z"
    }
   },
   "outputs": [
    {
     "name": "stdout",
     "output_type": "stream",
     "text": [
      "(1, 7367)\n",
      "[[0 0 0 ... 0 0 0]]\n"
     ]
    }
   ],
   "source": [
    "d=cv.transform([ui]).toarray()\n",
    "print(d.shape)\n",
    "print(d)"
   ]
  },
  {
   "cell_type": "code",
   "execution_count": 115,
   "id": "646fb3fe",
   "metadata": {
    "execution": {
     "iopub.execute_input": "2024-04-24T16:48:46.214892Z",
     "iopub.status.busy": "2024-04-24T16:48:46.214270Z",
     "iopub.status.idle": "2024-04-24T16:48:46.222428Z",
     "shell.execute_reply": "2024-04-24T16:48:46.221594Z",
     "shell.execute_reply.started": "2024-04-24T16:48:46.214856Z"
    }
   },
   "outputs": [],
   "source": [
    "result=bow_gnb.predict(d)"
   ]
  },
  {
   "cell_type": "code",
   "execution_count": 116,
   "id": "e8d353cf",
   "metadata": {
    "execution": {
     "iopub.execute_input": "2024-04-24T16:48:46.223960Z",
     "iopub.status.busy": "2024-04-24T16:48:46.223553Z",
     "iopub.status.idle": "2024-04-24T16:48:46.231188Z",
     "shell.execute_reply": "2024-04-24T16:48:46.230410Z",
     "shell.execute_reply.started": "2024-04-24T16:48:46.223926Z"
    }
   },
   "outputs": [
    {
     "name": "stdout",
     "output_type": "stream",
     "text": [
      "0\n"
     ]
    }
   ],
   "source": [
    "print(result[0])"
   ]
  },
  {
   "cell_type": "code",
   "execution_count": null,
   "id": "6063c240",
   "metadata": {},
   "outputs": [],
   "source": []
  }
 ],
 "metadata": {
  "kaggle": {
   "accelerator": "none",
   "dataSources": [
    {
     "datasetId": 4867011,
     "sourceId": 8212311,
     "sourceType": "datasetVersion"
    },
    {
     "datasetId": 4871085,
     "sourceId": 8217773,
     "sourceType": "datasetVersion"
    }
   ],
   "dockerImageVersionId": 30698,
   "isGpuEnabled": false,
   "isInternetEnabled": false,
   "language": "python",
   "sourceType": "notebook"
  },
  "kernelspec": {
   "display_name": "Python 3 (ipykernel)",
   "language": "python",
   "name": "python3"
  },
  "language_info": {
   "codemirror_mode": {
    "name": "ipython",
    "version": 3
   },
   "file_extension": ".py",
   "mimetype": "text/x-python",
   "name": "python",
   "nbconvert_exporter": "python",
   "pygments_lexer": "ipython3",
   "version": "3.10.7"
  }
 },
 "nbformat": 4,
 "nbformat_minor": 5
}
